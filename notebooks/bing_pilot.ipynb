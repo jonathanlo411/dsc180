{
 "cells": [
  {
   "cell_type": "markdown",
   "id": "4a1ce29c-f4f9-4bde-838e-d9d7fa61270a",
   "metadata": {},
   "source": [
    "# Bing Pilot Notebook\n",
    "Purpose is to use Selenium to query names to test for ads via Bing.<br>\n",
    "By: Jonathan Lo<br>\n",
    "Date: 11/2/23"
   ]
  },
  {
   "cell_type": "markdown",
   "id": "a4251962-9262-4c7f-a30c-42c92f8a3143",
   "metadata": {},
   "source": [
    "## Overhead"
   ]
  },
  {
   "cell_type": "code",
   "execution_count": 8,
   "id": "b57310a7-4690-438e-aa3f-b0189b317dbc",
   "metadata": {},
   "outputs": [],
   "source": [
    "# Imports\n",
    "import re\n",
    "import logging\n",
    "import os\n",
    "\n",
    "import pandas as pd\n",
    "\n",
    "from selenium import webdriver\n",
    "from selenium.webdriver.chrome.options import Options\n",
    "from bs4 import BeautifulSoup\n",
    "from collections import defaultdict\n",
    "from platform import platform\n",
    "from tqdm.notebook import tqdm\n",
    "\n",
    "from util import *"
   ]
  },
  {
   "cell_type": "code",
   "execution_count": 9,
   "id": "7d56ad86-97d6-4e06-9404-7a48713ea105",
   "metadata": {},
   "outputs": [],
   "source": [
    "# Setup logger\n",
    "if not os.path.exists('../logs/'):\n",
    "    os.mkdir('../logs/')\n",
    "if not os.path.exists('../logs/bing-pilot.log'):\n",
    "    open('../logs/bing-pilot.log', 'a').close()\n",
    "\n",
    "logging.basicConfig(\n",
    "    filename='../logs/bing-pilot.log',\n",
    "    filemode='w',\n",
    "    format='%(asctime)s %(message)s',\n",
    "    datefmt='%m/%d/%Y %I:%M:%S %p',\n",
    "    level=logging.DEBUG\n",
    ")"
   ]
  },
  {
   "cell_type": "code",
   "execution_count": 13,
   "id": "1510787f-c428-4d70-924c-9d866dfad6e0",
   "metadata": {},
   "outputs": [],
   "source": [
    "# Setup Webdriver Options\n",
    "options = Options()\n",
    "\n",
    "options.add_argument(\"--disable-notifications\")\n",
    "options.add_argument(\"--incognito\")\n",
    "options.add_experimental_option(\"prefs\", {\"plugins.plugins_list\": [{\"enabled\": False, \"name\": \"Chrome PDF Viewer\"}]})\n",
    "options.add_experimental_option(\"excludeSwitches\", [\"enable-automation\"])\n",
    "options.add_experimental_option('useAutomationExtension', False)\n",
    "options.add_argument(\"--start-maximized\")\n",
    "options.add_argument(\"--disable-blink-features\")\n",
    "options.add_argument('--disable-extensions')\n",
    "options.add_argument(\"--no-sandbox\")\n",
    "\n",
    "operating_system = platform()\n",
    "if \"macOS\" in operating_system:\n",
    "    options.binary_location = \"/usr/local/bin/webdriver\"\n",
    "elif \"Windows\" in operating_system:\n",
    "    options.binary_location = \"/c/Users/auditer/wchromedriver.exe\"    "
   ]
  },
  {
   "cell_type": "code",
   "execution_count": 16,
   "id": "dad9b1f8-ac09-496e-a2f0-ab614769254e",
   "metadata": {},
   "outputs": [
    {
     "name": "stdout",
     "output_type": "stream",
     "text": [
      "Internet connected:  True\n"
     ]
    },
    {
     "ename": "WebDriverException",
     "evalue": "Message: unknown error: no chrome binary at /c/Users/auditer/wchromedriver.exe\nStacktrace:\n\tGetHandleVerifier [0x00007FF6EB1882B2+55298]\n\t(No symbol) [0x00007FF6EB0F5E02]\n\t(No symbol) [0x00007FF6EAFB05AB]\n\t(No symbol) [0x00007FF6EAFDCE18]\n\t(No symbol) [0x00007FF6EAFDB30E]\n\t(No symbol) [0x00007FF6EB01A198]\n\t(No symbol) [0x00007FF6EB019CB0]\n\t(No symbol) [0x00007FF6EB011E83]\n\t(No symbol) [0x00007FF6EAFE670A]\n\t(No symbol) [0x00007FF6EAFE7964]\n\tGetHandleVerifier [0x00007FF6EB500AAB+3694587]\n\tGetHandleVerifier [0x00007FF6EB55728E+4048862]\n\tGetHandleVerifier [0x00007FF6EB54F173+4015811]\n\tGetHandleVerifier [0x00007FF6EB2247D6+695590]\n\t(No symbol) [0x00007FF6EB100CE8]\n\t(No symbol) [0x00007FF6EB0FCF34]\n\t(No symbol) [0x00007FF6EB0FD062]\n\t(No symbol) [0x00007FF6EB0ED3A3]\n\tBaseThreadInitThunk [0x00007FFA6C0E7344+20]\n\tRtlUserThreadStart [0x00007FFA6DD026B1+33]\n",
     "output_type": "error",
     "traceback": [
      "\u001b[1;31m---------------------------------------------------------------------------\u001b[0m",
      "\u001b[1;31mWebDriverException\u001b[0m                        Traceback (most recent call last)",
      "Cell \u001b[1;32mIn[16], line 3\u001b[0m\n\u001b[0;32m      1\u001b[0m \u001b[38;5;66;03m# Setup Selenium\u001b[39;00m\n\u001b[0;32m      2\u001b[0m \u001b[38;5;28mprint\u001b[39m(\u001b[38;5;124m\"\u001b[39m\u001b[38;5;124mInternet connected: \u001b[39m\u001b[38;5;124m\"\u001b[39m, internet())\n\u001b[1;32m----> 3\u001b[0m driver \u001b[38;5;241m=\u001b[39m webdriver\u001b[38;5;241m.\u001b[39mChrome(options\u001b[38;5;241m=\u001b[39moptions)\n",
      "File \u001b[1;32m~\\anaconda3\\Lib\\site-packages\\selenium\\webdriver\\chrome\\webdriver.py:45\u001b[0m, in \u001b[0;36mWebDriver.__init__\u001b[1;34m(self, options, service, keep_alive)\u001b[0m\n\u001b[0;32m     42\u001b[0m service \u001b[38;5;241m=\u001b[39m service \u001b[38;5;28;01mif\u001b[39;00m service \u001b[38;5;28;01melse\u001b[39;00m Service()\n\u001b[0;32m     43\u001b[0m options \u001b[38;5;241m=\u001b[39m options \u001b[38;5;28;01mif\u001b[39;00m options \u001b[38;5;28;01melse\u001b[39;00m Options()\n\u001b[1;32m---> 45\u001b[0m \u001b[38;5;28msuper\u001b[39m()\u001b[38;5;241m.\u001b[39m\u001b[38;5;21m__init__\u001b[39m(\n\u001b[0;32m     46\u001b[0m     DesiredCapabilities\u001b[38;5;241m.\u001b[39mCHROME[\u001b[38;5;124m\"\u001b[39m\u001b[38;5;124mbrowserName\u001b[39m\u001b[38;5;124m\"\u001b[39m],\n\u001b[0;32m     47\u001b[0m     \u001b[38;5;124m\"\u001b[39m\u001b[38;5;124mgoog\u001b[39m\u001b[38;5;124m\"\u001b[39m,\n\u001b[0;32m     48\u001b[0m     options,\n\u001b[0;32m     49\u001b[0m     service,\n\u001b[0;32m     50\u001b[0m     keep_alive,\n\u001b[0;32m     51\u001b[0m )\n",
      "File \u001b[1;32m~\\anaconda3\\Lib\\site-packages\\selenium\\webdriver\\chromium\\webdriver.py:56\u001b[0m, in \u001b[0;36mChromiumDriver.__init__\u001b[1;34m(self, browser_name, vendor_prefix, options, service, keep_alive)\u001b[0m\n\u001b[0;32m     53\u001b[0m \u001b[38;5;28mself\u001b[39m\u001b[38;5;241m.\u001b[39mservice\u001b[38;5;241m.\u001b[39mstart()\n\u001b[0;32m     55\u001b[0m \u001b[38;5;28;01mtry\u001b[39;00m:\n\u001b[1;32m---> 56\u001b[0m     \u001b[38;5;28msuper\u001b[39m()\u001b[38;5;241m.\u001b[39m\u001b[38;5;21m__init__\u001b[39m(\n\u001b[0;32m     57\u001b[0m         command_executor\u001b[38;5;241m=\u001b[39mChromiumRemoteConnection(\n\u001b[0;32m     58\u001b[0m             remote_server_addr\u001b[38;5;241m=\u001b[39m\u001b[38;5;28mself\u001b[39m\u001b[38;5;241m.\u001b[39mservice\u001b[38;5;241m.\u001b[39mservice_url,\n\u001b[0;32m     59\u001b[0m             browser_name\u001b[38;5;241m=\u001b[39mbrowser_name,\n\u001b[0;32m     60\u001b[0m             vendor_prefix\u001b[38;5;241m=\u001b[39mvendor_prefix,\n\u001b[0;32m     61\u001b[0m             keep_alive\u001b[38;5;241m=\u001b[39mkeep_alive,\n\u001b[0;32m     62\u001b[0m             ignore_proxy\u001b[38;5;241m=\u001b[39moptions\u001b[38;5;241m.\u001b[39m_ignore_local_proxy,\n\u001b[0;32m     63\u001b[0m         ),\n\u001b[0;32m     64\u001b[0m         options\u001b[38;5;241m=\u001b[39moptions,\n\u001b[0;32m     65\u001b[0m     )\n\u001b[0;32m     66\u001b[0m \u001b[38;5;28;01mexcept\u001b[39;00m \u001b[38;5;167;01mException\u001b[39;00m:\n\u001b[0;32m     67\u001b[0m     \u001b[38;5;28mself\u001b[39m\u001b[38;5;241m.\u001b[39mquit()\n",
      "File \u001b[1;32m~\\anaconda3\\Lib\\site-packages\\selenium\\webdriver\\remote\\webdriver.py:208\u001b[0m, in \u001b[0;36mWebDriver.__init__\u001b[1;34m(self, command_executor, keep_alive, file_detector, options)\u001b[0m\n\u001b[0;32m    206\u001b[0m \u001b[38;5;28mself\u001b[39m\u001b[38;5;241m.\u001b[39m_authenticator_id \u001b[38;5;241m=\u001b[39m \u001b[38;5;28;01mNone\u001b[39;00m\n\u001b[0;32m    207\u001b[0m \u001b[38;5;28mself\u001b[39m\u001b[38;5;241m.\u001b[39mstart_client()\n\u001b[1;32m--> 208\u001b[0m \u001b[38;5;28mself\u001b[39m\u001b[38;5;241m.\u001b[39mstart_session(capabilities)\n",
      "File \u001b[1;32m~\\anaconda3\\Lib\\site-packages\\selenium\\webdriver\\remote\\webdriver.py:292\u001b[0m, in \u001b[0;36mWebDriver.start_session\u001b[1;34m(self, capabilities)\u001b[0m\n\u001b[0;32m    285\u001b[0m \u001b[38;5;250m\u001b[39m\u001b[38;5;124;03m\"\"\"Creates a new session with the desired capabilities.\u001b[39;00m\n\u001b[0;32m    286\u001b[0m \n\u001b[0;32m    287\u001b[0m \u001b[38;5;124;03m:Args:\u001b[39;00m\n\u001b[0;32m    288\u001b[0m \u001b[38;5;124;03m - capabilities - a capabilities dict to start the session with.\u001b[39;00m\n\u001b[0;32m    289\u001b[0m \u001b[38;5;124;03m\"\"\"\u001b[39;00m\n\u001b[0;32m    291\u001b[0m caps \u001b[38;5;241m=\u001b[39m _create_caps(capabilities)\n\u001b[1;32m--> 292\u001b[0m response \u001b[38;5;241m=\u001b[39m \u001b[38;5;28mself\u001b[39m\u001b[38;5;241m.\u001b[39mexecute(Command\u001b[38;5;241m.\u001b[39mNEW_SESSION, caps)[\u001b[38;5;124m\"\u001b[39m\u001b[38;5;124mvalue\u001b[39m\u001b[38;5;124m\"\u001b[39m]\n\u001b[0;32m    293\u001b[0m \u001b[38;5;28mself\u001b[39m\u001b[38;5;241m.\u001b[39msession_id \u001b[38;5;241m=\u001b[39m response\u001b[38;5;241m.\u001b[39mget(\u001b[38;5;124m\"\u001b[39m\u001b[38;5;124msessionId\u001b[39m\u001b[38;5;124m\"\u001b[39m)\n\u001b[0;32m    294\u001b[0m \u001b[38;5;28mself\u001b[39m\u001b[38;5;241m.\u001b[39mcaps \u001b[38;5;241m=\u001b[39m response\u001b[38;5;241m.\u001b[39mget(\u001b[38;5;124m\"\u001b[39m\u001b[38;5;124mcapabilities\u001b[39m\u001b[38;5;124m\"\u001b[39m)\n",
      "File \u001b[1;32m~\\anaconda3\\Lib\\site-packages\\selenium\\webdriver\\remote\\webdriver.py:347\u001b[0m, in \u001b[0;36mWebDriver.execute\u001b[1;34m(self, driver_command, params)\u001b[0m\n\u001b[0;32m    345\u001b[0m response \u001b[38;5;241m=\u001b[39m \u001b[38;5;28mself\u001b[39m\u001b[38;5;241m.\u001b[39mcommand_executor\u001b[38;5;241m.\u001b[39mexecute(driver_command, params)\n\u001b[0;32m    346\u001b[0m \u001b[38;5;28;01mif\u001b[39;00m response:\n\u001b[1;32m--> 347\u001b[0m     \u001b[38;5;28mself\u001b[39m\u001b[38;5;241m.\u001b[39merror_handler\u001b[38;5;241m.\u001b[39mcheck_response(response)\n\u001b[0;32m    348\u001b[0m     response[\u001b[38;5;124m\"\u001b[39m\u001b[38;5;124mvalue\u001b[39m\u001b[38;5;124m\"\u001b[39m] \u001b[38;5;241m=\u001b[39m \u001b[38;5;28mself\u001b[39m\u001b[38;5;241m.\u001b[39m_unwrap_value(response\u001b[38;5;241m.\u001b[39mget(\u001b[38;5;124m\"\u001b[39m\u001b[38;5;124mvalue\u001b[39m\u001b[38;5;124m\"\u001b[39m, \u001b[38;5;28;01mNone\u001b[39;00m))\n\u001b[0;32m    349\u001b[0m     \u001b[38;5;28;01mreturn\u001b[39;00m response\n",
      "File \u001b[1;32m~\\anaconda3\\Lib\\site-packages\\selenium\\webdriver\\remote\\errorhandler.py:229\u001b[0m, in \u001b[0;36mErrorHandler.check_response\u001b[1;34m(self, response)\u001b[0m\n\u001b[0;32m    227\u001b[0m         alert_text \u001b[38;5;241m=\u001b[39m value[\u001b[38;5;124m\"\u001b[39m\u001b[38;5;124malert\u001b[39m\u001b[38;5;124m\"\u001b[39m]\u001b[38;5;241m.\u001b[39mget(\u001b[38;5;124m\"\u001b[39m\u001b[38;5;124mtext\u001b[39m\u001b[38;5;124m\"\u001b[39m)\n\u001b[0;32m    228\u001b[0m     \u001b[38;5;28;01mraise\u001b[39;00m exception_class(message, screen, stacktrace, alert_text)  \u001b[38;5;66;03m# type: ignore[call-arg]  # mypy is not smart enough here\u001b[39;00m\n\u001b[1;32m--> 229\u001b[0m \u001b[38;5;28;01mraise\u001b[39;00m exception_class(message, screen, stacktrace)\n",
      "\u001b[1;31mWebDriverException\u001b[0m: Message: unknown error: no chrome binary at /c/Users/auditer/wchromedriver.exe\nStacktrace:\n\tGetHandleVerifier [0x00007FF6EB1882B2+55298]\n\t(No symbol) [0x00007FF6EB0F5E02]\n\t(No symbol) [0x00007FF6EAFB05AB]\n\t(No symbol) [0x00007FF6EAFDCE18]\n\t(No symbol) [0x00007FF6EAFDB30E]\n\t(No symbol) [0x00007FF6EB01A198]\n\t(No symbol) [0x00007FF6EB019CB0]\n\t(No symbol) [0x00007FF6EB011E83]\n\t(No symbol) [0x00007FF6EAFE670A]\n\t(No symbol) [0x00007FF6EAFE7964]\n\tGetHandleVerifier [0x00007FF6EB500AAB+3694587]\n\tGetHandleVerifier [0x00007FF6EB55728E+4048862]\n\tGetHandleVerifier [0x00007FF6EB54F173+4015811]\n\tGetHandleVerifier [0x00007FF6EB2247D6+695590]\n\t(No symbol) [0x00007FF6EB100CE8]\n\t(No symbol) [0x00007FF6EB0FCF34]\n\t(No symbol) [0x00007FF6EB0FD062]\n\t(No symbol) [0x00007FF6EB0ED3A3]\n\tBaseThreadInitThunk [0x00007FFA6C0E7344+20]\n\tRtlUserThreadStart [0x00007FFA6DD026B1+33]\n"
     ]
    }
   ],
   "source": [
    "# Setup Selenium\n",
    "print(\"Internet connected: \", internet())\n",
    "driver = webdriver.Chrome(options=options)"
   ]
  },
  {
   "cell_type": "markdown",
   "id": "bf6671cd-92d6-4443-9d5e-ffce415a40b5",
   "metadata": {},
   "source": [
    "## Collection"
   ]
  },
  {
   "cell_type": "markdown",
   "id": "c7251b3e-50ac-4720-9f76-03955545c112",
   "metadata": {},
   "source": [
    "### Generating Names"
   ]
  },
  {
   "cell_type": "code",
   "execution_count": 5,
   "id": "b833b3b9-27ec-4468-84ab-7bd525f20d58",
   "metadata": {},
   "outputs": [],
   "source": [
    "# Init names\n",
    "path = \"./../data/pilot-names.json\"\n",
    "white_female_names = generate_names(path, 'white', 'female')\n",
    "white_male_names = generate_names(path, 'white', 'male')\n",
    "black_female_names = generate_names(path, 'black', 'female')\n",
    "black_male_names = generate_names(path, 'black', 'male')\n",
    "all_names = {\n",
    "    \"wf\": white_female_names,\n",
    "    \"wm\": white_male_names,\n",
    "    \"bf\": black_female_names,\n",
    "    \"bm\": black_male_names\n",
    "}"
   ]
  },
  {
   "cell_type": "markdown",
   "id": "71a8a155-2cfb-44a5-8b85-b6c39a6c0412",
   "metadata": {},
   "source": [
    "### Querying"
   ]
  },
  {
   "cell_type": "code",
   "execution_count": 6,
   "id": "1603e899-2058-4184-8959-06bb9fa443e7",
   "metadata": {},
   "outputs": [],
   "source": [
    "def parse_bing_ads(raw_html, query):\n",
    "    \"\"\" Parses the doman.TLD and the title, URL from the HTML\n",
    "    \"\"\"\n",
    "    compiled = defaultdict(list)\n",
    "    pattern = r'(?:http[s]?://)?(?:www\\.)?([\\w-]+\\.[\\w-]+)' # Matches the domain and TLD of a URL\n",
    "    ads = BeautifulSoup(raw_html).select('.sb_add')\n",
    "    for ad in ads:\n",
    "        try:\n",
    "            title = ad.select_one('h2').text\n",
    "            link = ad.select_one('.b_adurl').text\n",
    "            match = re.search(pattern, link)\n",
    "            domain = match.group(1) if match else 'ERROR'\n",
    "            compiled[domain].append((title, link))\n",
    "        except Exception as e:\n",
    "            logging.debug(f'Failed to parse ad HTML on query: {query}')\n",
    "    return compiled"
   ]
  },
  {
   "cell_type": "code",
   "execution_count": 7,
   "id": "2f8d0a4b-d1fc-47a7-aa40-b1425ed49235",
   "metadata": {},
   "outputs": [
    {
     "data": {
      "application/vnd.jupyter.widget-view+json": {
       "model_id": "34c0f114117343bc8e90d4631677f7e7",
       "version_major": 2,
       "version_minor": 0
      },
      "text/plain": [
       "  0%|          | 0/4 [00:00<?, ?it/s]"
      ]
     },
     "metadata": {},
     "output_type": "display_data"
    },
    {
     "data": {
      "application/vnd.jupyter.widget-view+json": {
       "model_id": "127b1c573c824f22a2d4a4daf0f55215",
       "version_major": 2,
       "version_minor": 0
      },
      "text/plain": [
       "  0%|          | 0/80 [00:00<?, ?it/s]"
      ]
     },
     "metadata": {},
     "output_type": "display_data"
    },
    {
     "data": {
      "application/vnd.jupyter.widget-view+json": {
       "model_id": "8b747f3e2e114842857da9663e5a58f1",
       "version_major": 2,
       "version_minor": 0
      },
      "text/plain": [
       "  0%|          | 0/80 [00:00<?, ?it/s]"
      ]
     },
     "metadata": {},
     "output_type": "display_data"
    },
    {
     "data": {
      "application/vnd.jupyter.widget-view+json": {
       "model_id": "15e6e3849d6841bab09987c09b1be877",
       "version_major": 2,
       "version_minor": 0
      },
      "text/plain": [
       "  0%|          | 0/90 [00:00<?, ?it/s]"
      ]
     },
     "metadata": {},
     "output_type": "display_data"
    },
    {
     "data": {
      "application/vnd.jupyter.widget-view+json": {
       "model_id": "6f257c34c84e40d7bfbc9ae87f8b1a50",
       "version_major": 2,
       "version_minor": 0
      },
      "text/plain": [
       "  0%|          | 0/80 [00:00<?, ?it/s]"
      ]
     },
     "metadata": {},
     "output_type": "display_data"
    }
   ],
   "source": [
    "# Querying all names and obtaining the ads on the page (est. 4min)\n",
    "all_ads = [['Name', 'Group', 'Ad Domain', 'Ad Title', 'Ad Link']]\n",
    "for group, names in tqdm(all_names.items()):\n",
    "    for name in tqdm(names):\n",
    "        query = f\"{name} public records\"\n",
    "        raw_html = bing_search(query, driver)\n",
    "        parsed = parse_bing_ads(raw_html, query)\n",
    "        for domain, ad_items in parsed.items():\n",
    "            for ad_opts in ad_items:\n",
    "                all_ads.append([name, group, domain, ad_opts[0], ad_opts[1]])"
   ]
  },
  {
   "cell_type": "markdown",
   "id": "8e012796-1847-495e-83a0-25e4db9fc5c6",
   "metadata": {},
   "source": [
    "## Analysis"
   ]
  },
  {
   "cell_type": "markdown",
   "id": "6dcf31c8-0391-4b79-a4c6-59c590bb709f",
   "metadata": {},
   "source": [
    "### Labelling"
   ]
  },
  {
   "cell_type": "code",
   "execution_count": 8,
   "id": "d9195077-b0c5-4702-9673-7f0a3655940a",
   "metadata": {},
   "outputs": [],
   "source": [
    "# Init DF\n",
    "df = pd.DataFrame(all_ads[1:], columns=all_ads[0])"
   ]
  },
  {
   "cell_type": "code",
   "execution_count": 9,
   "id": "8019a306-462b-4a15-b9e0-41fb1ddab3f8",
   "metadata": {},
   "outputs": [],
   "source": [
    "# Label\n",
    "mapping = {'wf': ('White', 'Female'), 'wm': ('White', 'Male'), 'bf': ('Black', 'Female'), 'bm': ('Black', 'Male')}\n",
    "df['Race'] = df['Group'].map(mapping).str[0]\n",
    "df['Sex'] = df['Group'].map(mapping).str[1]\n",
    "df['Criminal Ad'] = df['Ad Title'].str.lower().str.contains('criminal')"
   ]
  },
  {
   "cell_type": "code",
   "execution_count": 10,
   "id": "01f886d7-868b-47a2-8901-b28c173bae76",
   "metadata": {},
   "outputs": [
    {
     "data": {
      "text/html": [
       "<div>\n",
       "<style scoped>\n",
       "    .dataframe tbody tr th:only-of-type {\n",
       "        vertical-align: middle;\n",
       "    }\n",
       "\n",
       "    .dataframe tbody tr th {\n",
       "        vertical-align: top;\n",
       "    }\n",
       "\n",
       "    .dataframe thead th {\n",
       "        text-align: right;\n",
       "    }\n",
       "</style>\n",
       "<table border=\"1\" class=\"dataframe\">\n",
       "  <thead>\n",
       "    <tr style=\"text-align: right;\">\n",
       "      <th></th>\n",
       "      <th>Name</th>\n",
       "      <th>Group</th>\n",
       "      <th>Ad Domain</th>\n",
       "      <th>Ad Title</th>\n",
       "      <th>Ad Link</th>\n",
       "      <th>Race</th>\n",
       "      <th>Sex</th>\n",
       "      <th>Criminal Ad</th>\n",
       "    </tr>\n",
       "  </thead>\n",
       "  <tbody>\n",
       "    <tr>\n",
       "      <th>0</th>\n",
       "      <td>Allison Smith</td>\n",
       "      <td>wf</td>\n",
       "      <td>recordsquarry.com</td>\n",
       "      <td>Public Records Search Free | Free Public Recor...</td>\n",
       "      <td>https://recordsquarry.com</td>\n",
       "      <td>White</td>\n",
       "      <td>Female</td>\n",
       "      <td>False</td>\n",
       "    </tr>\n",
       "    <tr>\n",
       "      <th>1</th>\n",
       "      <td>Allison Smith</td>\n",
       "      <td>wf</td>\n",
       "      <td>recordsquarry.com</td>\n",
       "      <td>Public Records Search Free | Free Public Recor...</td>\n",
       "      <td>https://recordsquarry.com</td>\n",
       "      <td>White</td>\n",
       "      <td>Female</td>\n",
       "      <td>False</td>\n",
       "    </tr>\n",
       "    <tr>\n",
       "      <th>2</th>\n",
       "      <td>Allison Smith</td>\n",
       "      <td>wf</td>\n",
       "      <td>courtrecords.us</td>\n",
       "      <td>Public Court Records Access | Look-Up Records ...</td>\n",
       "      <td>https://www.courtrecords.us.org/Court/Records</td>\n",
       "      <td>White</td>\n",
       "      <td>Female</td>\n",
       "      <td>False</td>\n",
       "    </tr>\n",
       "    <tr>\n",
       "      <th>3</th>\n",
       "      <td>Allison Smith</td>\n",
       "      <td>wf</td>\n",
       "      <td>police.us</td>\n",
       "      <td>Enter Name: No Records, No Fee | Public Crimin...</td>\n",
       "      <td>https://www.police.us.org/State/Records</td>\n",
       "      <td>White</td>\n",
       "      <td>Female</td>\n",
       "      <td>True</td>\n",
       "    </tr>\n",
       "    <tr>\n",
       "      <th>4</th>\n",
       "      <td>Allison Johnson</td>\n",
       "      <td>wf</td>\n",
       "      <td>ourpublicrecords.org</td>\n",
       "      <td>Public Records Online | Enter Name - Search In...</td>\n",
       "      <td>https://ourpublicrecords.org</td>\n",
       "      <td>White</td>\n",
       "      <td>Female</td>\n",
       "      <td>False</td>\n",
       "    </tr>\n",
       "  </tbody>\n",
       "</table>\n",
       "</div>"
      ],
      "text/plain": [
       "              Name Group             Ad Domain  \\\n",
       "0    Allison Smith    wf     recordsquarry.com   \n",
       "1    Allison Smith    wf     recordsquarry.com   \n",
       "2    Allison Smith    wf       courtrecords.us   \n",
       "3    Allison Smith    wf             police.us   \n",
       "4  Allison Johnson    wf  ourpublicrecords.org   \n",
       "\n",
       "                                            Ad Title  \\\n",
       "0  Public Records Search Free | Free Public Recor...   \n",
       "1  Public Records Search Free | Free Public Recor...   \n",
       "2  Public Court Records Access | Look-Up Records ...   \n",
       "3  Enter Name: No Records, No Fee | Public Crimin...   \n",
       "4  Public Records Online | Enter Name - Search In...   \n",
       "\n",
       "                                         Ad Link   Race     Sex  Criminal Ad  \n",
       "0                      https://recordsquarry.com  White  Female        False  \n",
       "1                      https://recordsquarry.com  White  Female        False  \n",
       "2  https://www.courtrecords.us.org/Court/Records  White  Female        False  \n",
       "3        https://www.police.us.org/State/Records  White  Female         True  \n",
       "4                   https://ourpublicrecords.org  White  Female        False  "
      ]
     },
     "execution_count": 10,
     "metadata": {},
     "output_type": "execute_result"
    }
   ],
   "source": [
    "# Showing dataframe\n",
    "df.head()"
   ]
  },
  {
   "cell_type": "markdown",
   "id": "c0156d09-c59c-421e-8f80-be7d7f71b8af",
   "metadata": {},
   "source": [
    "### Breakdown"
   ]
  },
  {
   "cell_type": "code",
   "execution_count": 11,
   "id": "92edaedd-81c4-4552-8c46-9b7715b59bf4",
   "metadata": {},
   "outputs": [
    {
     "data": {
      "text/html": [
       "<div>\n",
       "<style scoped>\n",
       "    .dataframe tbody tr th:only-of-type {\n",
       "        vertical-align: middle;\n",
       "    }\n",
       "\n",
       "    .dataframe tbody tr th {\n",
       "        vertical-align: top;\n",
       "    }\n",
       "\n",
       "    .dataframe thead th {\n",
       "        text-align: right;\n",
       "    }\n",
       "</style>\n",
       "<table border=\"1\" class=\"dataframe\">\n",
       "  <thead>\n",
       "    <tr style=\"text-align: right;\">\n",
       "      <th></th>\n",
       "      <th>Name</th>\n",
       "    </tr>\n",
       "    <tr>\n",
       "      <th>Race</th>\n",
       "      <th></th>\n",
       "    </tr>\n",
       "  </thead>\n",
       "  <tbody>\n",
       "    <tr>\n",
       "      <th>Black</th>\n",
       "      <td>504</td>\n",
       "    </tr>\n",
       "    <tr>\n",
       "      <th>White</th>\n",
       "      <td>429</td>\n",
       "    </tr>\n",
       "  </tbody>\n",
       "</table>\n",
       "</div>"
      ],
      "text/plain": [
       "       Name\n",
       "Race       \n",
       "Black   504\n",
       "White   429"
      ]
     },
     "metadata": {},
     "output_type": "display_data"
    },
    {
     "data": {
      "text/html": [
       "<div>\n",
       "<style scoped>\n",
       "    .dataframe tbody tr th:only-of-type {\n",
       "        vertical-align: middle;\n",
       "    }\n",
       "\n",
       "    .dataframe tbody tr th {\n",
       "        vertical-align: top;\n",
       "    }\n",
       "\n",
       "    .dataframe thead th {\n",
       "        text-align: right;\n",
       "    }\n",
       "</style>\n",
       "<table border=\"1\" class=\"dataframe\">\n",
       "  <thead>\n",
       "    <tr style=\"text-align: right;\">\n",
       "      <th></th>\n",
       "      <th></th>\n",
       "      <th>Name</th>\n",
       "    </tr>\n",
       "    <tr>\n",
       "      <th>Race</th>\n",
       "      <th>Sex</th>\n",
       "      <th></th>\n",
       "    </tr>\n",
       "  </thead>\n",
       "  <tbody>\n",
       "    <tr>\n",
       "      <th rowspan=\"2\" valign=\"top\">Black</th>\n",
       "      <th>Female</th>\n",
       "      <td>271</td>\n",
       "    </tr>\n",
       "    <tr>\n",
       "      <th>Male</th>\n",
       "      <td>233</td>\n",
       "    </tr>\n",
       "    <tr>\n",
       "      <th rowspan=\"2\" valign=\"top\">White</th>\n",
       "      <th>Female</th>\n",
       "      <td>217</td>\n",
       "    </tr>\n",
       "    <tr>\n",
       "      <th>Male</th>\n",
       "      <td>212</td>\n",
       "    </tr>\n",
       "  </tbody>\n",
       "</table>\n",
       "</div>"
      ],
      "text/plain": [
       "              Name\n",
       "Race  Sex         \n",
       "Black Female   271\n",
       "      Male     233\n",
       "White Female   217\n",
       "      Male     212"
      ]
     },
     "metadata": {},
     "output_type": "display_data"
    }
   ],
   "source": [
    "# Show breakdowns\n",
    "counts_r = df.groupby(['Race'])['Name'].count()\n",
    "counts_rs = df.groupby(['Race', 'Sex'])['Name'].count()\n",
    "display(counts_r.to_frame())\n",
    "display(counts_rs.to_frame())"
   ]
  },
  {
   "cell_type": "code",
   "execution_count": 12,
   "id": "5e2aa6f3-4502-41c1-9aad-586840868639",
   "metadata": {},
   "outputs": [
    {
     "data": {
      "text/html": [
       "<div>\n",
       "<style scoped>\n",
       "    .dataframe tbody tr th:only-of-type {\n",
       "        vertical-align: middle;\n",
       "    }\n",
       "\n",
       "    .dataframe tbody tr th {\n",
       "        vertical-align: top;\n",
       "    }\n",
       "\n",
       "    .dataframe thead th {\n",
       "        text-align: right;\n",
       "    }\n",
       "</style>\n",
       "<table border=\"1\" class=\"dataframe\">\n",
       "  <thead>\n",
       "    <tr style=\"text-align: right;\">\n",
       "      <th></th>\n",
       "      <th>Criminal Ad</th>\n",
       "    </tr>\n",
       "    <tr>\n",
       "      <th>Race</th>\n",
       "      <th></th>\n",
       "    </tr>\n",
       "  </thead>\n",
       "  <tbody>\n",
       "    <tr>\n",
       "      <th>Black</th>\n",
       "      <td>11</td>\n",
       "    </tr>\n",
       "    <tr>\n",
       "      <th>White</th>\n",
       "      <td>7</td>\n",
       "    </tr>\n",
       "  </tbody>\n",
       "</table>\n",
       "</div>"
      ],
      "text/plain": [
       "       Criminal Ad\n",
       "Race              \n",
       "Black           11\n",
       "White            7"
      ]
     },
     "metadata": {},
     "output_type": "display_data"
    },
    {
     "data": {
      "text/html": [
       "<div>\n",
       "<style scoped>\n",
       "    .dataframe tbody tr th:only-of-type {\n",
       "        vertical-align: middle;\n",
       "    }\n",
       "\n",
       "    .dataframe tbody tr th {\n",
       "        vertical-align: top;\n",
       "    }\n",
       "\n",
       "    .dataframe thead th {\n",
       "        text-align: right;\n",
       "    }\n",
       "</style>\n",
       "<table border=\"1\" class=\"dataframe\">\n",
       "  <thead>\n",
       "    <tr style=\"text-align: right;\">\n",
       "      <th></th>\n",
       "      <th></th>\n",
       "      <th>Criminal Ad</th>\n",
       "    </tr>\n",
       "    <tr>\n",
       "      <th>Race</th>\n",
       "      <th>Sex</th>\n",
       "      <th></th>\n",
       "    </tr>\n",
       "  </thead>\n",
       "  <tbody>\n",
       "    <tr>\n",
       "      <th rowspan=\"2\" valign=\"top\">Black</th>\n",
       "      <th>Female</th>\n",
       "      <td>4</td>\n",
       "    </tr>\n",
       "    <tr>\n",
       "      <th>Male</th>\n",
       "      <td>7</td>\n",
       "    </tr>\n",
       "    <tr>\n",
       "      <th rowspan=\"2\" valign=\"top\">White</th>\n",
       "      <th>Female</th>\n",
       "      <td>4</td>\n",
       "    </tr>\n",
       "    <tr>\n",
       "      <th>Male</th>\n",
       "      <td>3</td>\n",
       "    </tr>\n",
       "  </tbody>\n",
       "</table>\n",
       "</div>"
      ],
      "text/plain": [
       "              Criminal Ad\n",
       "Race  Sex                \n",
       "Black Female            4\n",
       "      Male              7\n",
       "White Female            4\n",
       "      Male              3"
      ]
     },
     "metadata": {},
     "output_type": "display_data"
    }
   ],
   "source": [
    "# Finding only criminal ads\n",
    "crime_df = df[df['Criminal Ad']]\n",
    "crime_r = crime_df.groupby(['Race'])['Criminal Ad'].count()\n",
    "crime_rs = crime_df.groupby(['Race', 'Sex'])['Criminal Ad'].count()\n",
    "display(crime_r.to_frame())\n",
    "display(crime_rs.to_frame())"
   ]
  },
  {
   "cell_type": "code",
   "execution_count": 13,
   "id": "fc08ab72-7d66-4750-9582-aad16758b9f6",
   "metadata": {},
   "outputs": [
    {
     "data": {
      "text/html": [
       "<div>\n",
       "<style scoped>\n",
       "    .dataframe tbody tr th:only-of-type {\n",
       "        vertical-align: middle;\n",
       "    }\n",
       "\n",
       "    .dataframe tbody tr th {\n",
       "        vertical-align: top;\n",
       "    }\n",
       "\n",
       "    .dataframe thead th {\n",
       "        text-align: right;\n",
       "    }\n",
       "</style>\n",
       "<table border=\"1\" class=\"dataframe\">\n",
       "  <thead>\n",
       "    <tr style=\"text-align: right;\">\n",
       "      <th></th>\n",
       "      <th>0</th>\n",
       "    </tr>\n",
       "    <tr>\n",
       "      <th>Race</th>\n",
       "      <th></th>\n",
       "    </tr>\n",
       "  </thead>\n",
       "  <tbody>\n",
       "    <tr>\n",
       "      <th>Black</th>\n",
       "      <td>0.021825</td>\n",
       "    </tr>\n",
       "    <tr>\n",
       "      <th>White</th>\n",
       "      <td>0.016317</td>\n",
       "    </tr>\n",
       "  </tbody>\n",
       "</table>\n",
       "</div>"
      ],
      "text/plain": [
       "              0\n",
       "Race           \n",
       "Black  0.021825\n",
       "White  0.016317"
      ]
     },
     "metadata": {},
     "output_type": "display_data"
    },
    {
     "data": {
      "text/html": [
       "<div>\n",
       "<style scoped>\n",
       "    .dataframe tbody tr th:only-of-type {\n",
       "        vertical-align: middle;\n",
       "    }\n",
       "\n",
       "    .dataframe tbody tr th {\n",
       "        vertical-align: top;\n",
       "    }\n",
       "\n",
       "    .dataframe thead th {\n",
       "        text-align: right;\n",
       "    }\n",
       "</style>\n",
       "<table border=\"1\" class=\"dataframe\">\n",
       "  <thead>\n",
       "    <tr style=\"text-align: right;\">\n",
       "      <th></th>\n",
       "      <th></th>\n",
       "      <th>0</th>\n",
       "    </tr>\n",
       "    <tr>\n",
       "      <th>Race</th>\n",
       "      <th>Sex</th>\n",
       "      <th></th>\n",
       "    </tr>\n",
       "  </thead>\n",
       "  <tbody>\n",
       "    <tr>\n",
       "      <th rowspan=\"2\" valign=\"top\">Black</th>\n",
       "      <th>Female</th>\n",
       "      <td>0.014760</td>\n",
       "    </tr>\n",
       "    <tr>\n",
       "      <th>Male</th>\n",
       "      <td>0.030043</td>\n",
       "    </tr>\n",
       "    <tr>\n",
       "      <th rowspan=\"2\" valign=\"top\">White</th>\n",
       "      <th>Female</th>\n",
       "      <td>0.018433</td>\n",
       "    </tr>\n",
       "    <tr>\n",
       "      <th>Male</th>\n",
       "      <td>0.014151</td>\n",
       "    </tr>\n",
       "  </tbody>\n",
       "</table>\n",
       "</div>"
      ],
      "text/plain": [
       "                     0\n",
       "Race  Sex             \n",
       "Black Female  0.014760\n",
       "      Male    0.030043\n",
       "White Female  0.018433\n",
       "      Male    0.014151"
      ]
     },
     "metadata": {},
     "output_type": "display_data"
    }
   ],
   "source": [
    "# Finding distributions\n",
    "display((crime_r / counts_r).to_frame())\n",
    "display((crime_rs / counts_rs).to_frame())"
   ]
  },
  {
   "cell_type": "code",
   "execution_count": 14,
   "id": "c127f204-73e2-427d-866d-7c3cafe01141",
   "metadata": {},
   "outputs": [
    {
     "data": {
      "text/plain": [
       "<Axes: xlabel='Race'>"
      ]
     },
     "execution_count": 14,
     "metadata": {},
     "output_type": "execute_result"
    },
    {
     "data": {
      "image/png": "[encoded data removed]",
      "text/plain": [
       "<Figure size 640x480 with 1 Axes>"
      ]
     },
     "metadata": {},
     "output_type": "display_data"
    }
   ],
   "source": [
    "(crime_r/counts_r).plot(kind='bar')"
   ]
  },
  {
   "cell_type": "code",
   "execution_count": 15,
   "id": "61b79c9b-ce30-49f9-ac2c-66659e92a009",
   "metadata": {},
   "outputs": [
    {
     "data": {
      "text/plain": [
       "<Axes: xlabel='Race,Sex'>"
      ]
     },
     "execution_count": 15,
     "metadata": {},
     "output_type": "execute_result"
    },
    {
     "data": {
      "image/png": "[encoded data removed]",
      "text/plain": [
       "<Figure size 640x480 with 1 Axes>"
      ]
     },
     "metadata": {},
     "output_type": "display_data"
    }
   ],
   "source": [
    "(crime_rs/counts_rs).plot(kind='bar')"
   ]
  }
 ],
 "metadata": {
  "kernelspec": {
   "display_name": "Python 3 (ipykernel)",
   "language": "python",
   "name": "python3"
  },
  "language_info": {
   "codemirror_mode": {
    "name": "ipython",
    "version": 3
   },
   "file_extension": ".py",
   "mimetype": "text/x-python",
   "name": "python",
   "nbconvert_exporter": "python",
   "pygments_lexer": "ipython3",
   "version": "3.11.5"
  }
 },
 "nbformat": 4,
 "nbformat_minor": 5
}
