{
 "cells": [
  {
   "cell_type": "markdown",
   "id": "4a1ce29c-f4f9-4bde-838e-d9d7fa61270a",
   "metadata": {},
   "source": [
    "# Bing Pilot Notebook\n",
    "Purpose is to use Selenium to query names to test for ads via Bing.<br>\n",
    "By: Jonathan Lo<br>\n",
    "Date: 11/2/23"
   ]
  },
  {
   "cell_type": "markdown",
   "id": "a4251962-9262-4c7f-a30c-42c92f8a3143",
   "metadata": {},
   "source": [
    "## Overhead"
   ]
  },
  {
   "cell_type": "code",
   "execution_count": 1,
   "id": "b57310a7-4690-438e-aa3f-b0189b317dbc",
   "metadata": {},
   "outputs": [],
   "source": [
    "# Imports\n",
    "import re\n",
    "import logging\n",
    "import os\n",
    "\n",
    "import pandas as pd\n",
    "\n",
    "from selenium import webdriver\n",
    "from selenium.webdriver.chrome.options import Options\n",
    "from bs4 import BeautifulSoup\n",
    "from collections import defaultdict\n",
    "from tqdm.notebook import tqdm\n",
    "\n",
    "from util import *"
   ]
  },
  {
   "cell_type": "code",
   "execution_count": 2,
   "id": "7d56ad86-97d6-4e06-9404-7a48713ea105",
   "metadata": {},
   "outputs": [],
   "source": [
    "# Setup logger\n",
    "if not os.path.exists('../logs/'):\n",
    "    os.mkdir('../logs/')\n",
    "if not os.path.exists('../logs/bing-pilot.log'):\n",
    "    open('../logs/bing-pilot.log', 'a').close()\n",
    "\n",
    "logging.basicConfig(\n",
    "    filename='../logs/bing-pilot.log',\n",
    "    filemode='w',\n",
    "    format='%(asctime)s %(message)s',\n",
    "    datefmt='%m/%d/%Y %I:%M:%S %p',\n",
    "    level=logging.DEBUG\n",
    ")"
   ]
  },
  {
   "cell_type": "code",
   "execution_count": 3,
   "id": "1510787f-c428-4d70-924c-9d866dfad6e0",
   "metadata": {},
   "outputs": [],
   "source": [
    "# Setup Webdriver Options\n",
    "options = Options()\n",
    "\n",
    "options.add_argument(\"--disable-notifications\")\n",
    "options.add_argument(\"--incognito\")\n",
    "options.add_experimental_option(\"prefs\", {\"plugins.plugins_list\": [{\"enabled\": False, \"name\": \"Chrome PDF Viewer\"}]})\n",
    "options.add_experimental_option(\"excludeSwitches\", [\"enable-automation\"])\n",
    "options.add_experimental_option('useAutomationExtension', False)\n",
    "options.add_argument(\"--start-maximized\")\n",
    "options.add_argument(\"--disable-blink-features\")\n",
    "options.add_argument('--disable-extensions')\n",
    "options.add_argument(\"--no-sandbox\")\n",
    "\n",
    "options.binary_location = \"/usr/local/bin/webdriver\""
   ]
  },
  {
   "cell_type": "code",
   "execution_count": 4,
   "id": "dad9b1f8-ac09-496e-a2f0-ab614769254e",
   "metadata": {},
   "outputs": [
    {
     "name": "stdout",
     "output_type": "stream",
     "text": [
      "Internet connected:  True\n"
     ]
    }
   ],
   "source": [
    "# Setup Selenium\n",
    "print(\"Internet connected: \", internet())\n",
    "driver = webdriver.Chrome(options=options)"
   ]
  },
  {
   "cell_type": "markdown",
   "id": "bf6671cd-92d6-4443-9d5e-ffce415a40b5",
   "metadata": {},
   "source": [
    "## Collection"
   ]
  },
  {
   "cell_type": "markdown",
   "id": "c7251b3e-50ac-4720-9f76-03955545c112",
   "metadata": {},
   "source": [
    "### Generating Names"
   ]
  },
  {
   "cell_type": "code",
   "execution_count": 5,
   "id": "b833b3b9-27ec-4468-84ab-7bd525f20d58",
   "metadata": {},
   "outputs": [],
   "source": [
    "# Init names\n",
    "path = \"./../data/pilot-names.json\"\n",
    "white_female_names = generate_names(path, 'white', 'female')\n",
    "white_male_names = generate_names(path, 'white', 'male')\n",
    "black_female_names = generate_names(path, 'black', 'female')\n",
    "black_male_names = generate_names(path, 'black', 'male')\n",
    "all_names = {\n",
    "    \"wf\": white_female_names,\n",
    "    \"wm\": white_male_names,\n",
    "    \"bf\": black_female_names,\n",
    "    \"bm\": black_male_names\n",
    "}"
   ]
  },
  {
   "cell_type": "markdown",
   "id": "71a8a155-2cfb-44a5-8b85-b6c39a6c0412",
   "metadata": {},
   "source": [
    "### Querying"
   ]
  },
  {
   "cell_type": "code",
   "execution_count": 6,
   "id": "1603e899-2058-4184-8959-06bb9fa443e7",
   "metadata": {},
   "outputs": [],
   "source": [
    "def parse_bing_ads(raw_html, query):\n",
    "    \"\"\" Parses the doman.TLD and the title, URL from the HTML\n",
    "    \"\"\"\n",
    "    compiled = defaultdict(list)\n",
    "    pattern = r'(?:http[s]?://)?(?:www\\.)?([\\w-]+\\.[\\w-]+)' # Matches the domain and TLD of a URL\n",
    "    ads = BeautifulSoup(raw_html).select('.sb_add')\n",
    "    for ad in ads:\n",
    "        try:\n",
    "            title = ad.select_one('h2').text\n",
    "            link = ad.select_one('.b_adurl').text\n",
    "            match = re.search(pattern, link)\n",
    "            domain = match.group(1) if match else 'ERROR'\n",
    "            compiled[domain].append((title, link))\n",
    "        except Exception as e:\n",
    "            logging.debug(f'Failed to parse ad HTML on query: {query}')\n",
    "    return compiled"
   ]
  },
  {
   "cell_type": "code",
   "execution_count": 7,
   "id": "2f8d0a4b-d1fc-47a7-aa40-b1425ed49235",
   "metadata": {},
   "outputs": [
    {
     "data": {
      "application/vnd.jupyter.widget-view+json": {
       "model_id": "809eefc501914166a62c59cd3dc875ef",
       "version_major": 2,
       "version_minor": 0
      },
      "text/plain": [
       "  0%|          | 0/4 [00:00<?, ?it/s]"
      ]
     },
     "metadata": {},
     "output_type": "display_data"
    },
    {
     "data": {
      "application/vnd.jupyter.widget-view+json": {
       "model_id": "e64dc5a97bec4a75afe0de665cb45b22",
       "version_major": 2,
       "version_minor": 0
      },
      "text/plain": [
       "  0%|          | 0/80 [00:00<?, ?it/s]"
      ]
     },
     "metadata": {},
     "output_type": "display_data"
    },
    {
     "data": {
      "application/vnd.jupyter.widget-view+json": {
       "model_id": "608ddea25f134363ad625696fcb7317b",
       "version_major": 2,
       "version_minor": 0
      },
      "text/plain": [
       "  0%|          | 0/80 [00:00<?, ?it/s]"
      ]
     },
     "metadata": {},
     "output_type": "display_data"
    },
    {
     "data": {
      "application/vnd.jupyter.widget-view+json": {
       "model_id": "86c9143dd564410fb3e5ff5e5353f40b",
       "version_major": 2,
       "version_minor": 0
      },
      "text/plain": [
       "  0%|          | 0/90 [00:00<?, ?it/s]"
      ]
     },
     "metadata": {},
     "output_type": "display_data"
    },
    {
     "data": {
      "application/vnd.jupyter.widget-view+json": {
       "model_id": "da4ba2e83fe243b5b0609d5ca418d2bc",
       "version_major": 2,
       "version_minor": 0
      },
      "text/plain": [
       "  0%|          | 0/80 [00:00<?, ?it/s]"
      ]
     },
     "metadata": {},
     "output_type": "display_data"
    }
   ],
   "source": [
    "# Querying all names and obtaining the ads on the page (est. 4min)\n",
    "all_ads = [['Name', 'Group', 'Ad Domain', 'Ad Title', 'Ad Link']]\n",
    "for group, names in tqdm(all_names.items()):\n",
    "    for name in tqdm(names):\n",
    "        query = f\"{name} public records\"\n",
    "        raw_html = bing_search(query, driver)\n",
    "        parsed = parse_bing_ads(raw_html, query)\n",
    "        for domain, ad_items in parsed.items():\n",
    "            for ad_opts in ad_items:\n",
    "                all_ads.append([name, group, domain, ad_opts[0], ad_opts[1]])"
   ]
  },
  {
   "cell_type": "markdown",
   "id": "8e012796-1847-495e-83a0-25e4db9fc5c6",
   "metadata": {},
   "source": [
    "## Analysis"
   ]
  },
  {
   "cell_type": "markdown",
   "id": "6dcf31c8-0391-4b79-a4c6-59c590bb709f",
   "metadata": {},
   "source": [
    "### Labelling"
   ]
  },
  {
   "cell_type": "code",
   "execution_count": 8,
   "id": "d9195077-b0c5-4702-9673-7f0a3655940a",
   "metadata": {},
   "outputs": [],
   "source": [
    "# Init DF\n",
    "df = pd.DataFrame(all_ads[1:], columns=all_ads[0])"
   ]
  },
  {
   "cell_type": "code",
   "execution_count": 9,
   "id": "8019a306-462b-4a15-b9e0-41fb1ddab3f8",
   "metadata": {},
   "outputs": [],
   "source": [
    "# Label\n",
    "mapping = {'wf': ('White', 'Female'), 'wm': ('White', 'Male'), 'bf': ('Black', 'Female'), 'bm': ('Black', 'Male')}\n",
    "df['Race'] = df['Group'].map(mapping).str[0]\n",
    "df['Sex'] = df['Group'].map(mapping).str[1]\n",
    "df['Criminal Ad'] = df['Ad Title'].str.lower().str.contains('criminal')"
   ]
  },
  {
   "cell_type": "code",
   "execution_count": 10,
   "id": "01f886d7-868b-47a2-8901-b28c173bae76",
   "metadata": {},
   "outputs": [
    {
     "data": {
      "text/html": [
       "<div>\n",
       "<style scoped>\n",
       "    .dataframe tbody tr th:only-of-type {\n",
       "        vertical-align: middle;\n",
       "    }\n",
       "\n",
       "    .dataframe tbody tr th {\n",
       "        vertical-align: top;\n",
       "    }\n",
       "\n",
       "    .dataframe thead th {\n",
       "        text-align: right;\n",
       "    }\n",
       "</style>\n",
       "<table border=\"1\" class=\"dataframe\">\n",
       "  <thead>\n",
       "    <tr style=\"text-align: right;\">\n",
       "      <th></th>\n",
       "      <th>Name</th>\n",
       "      <th>Group</th>\n",
       "      <th>Ad Domain</th>\n",
       "      <th>Ad Title</th>\n",
       "      <th>Ad Link</th>\n",
       "      <th>Race</th>\n",
       "      <th>Sex</th>\n",
       "      <th>Criminal Ad</th>\n",
       "    </tr>\n",
       "  </thead>\n",
       "  <tbody>\n",
       "    <tr>\n",
       "      <th>0</th>\n",
       "      <td>Allison Smith</td>\n",
       "      <td>wf</td>\n",
       "      <td>recordsquarry.com</td>\n",
       "      <td>Public Records Search Free | Free Public Recor...</td>\n",
       "      <td>https://recordsquarry.com</td>\n",
       "      <td>White</td>\n",
       "      <td>Female</td>\n",
       "      <td>False</td>\n",
       "    </tr>\n",
       "    <tr>\n",
       "      <th>1</th>\n",
       "      <td>Allison Smith</td>\n",
       "      <td>wf</td>\n",
       "      <td>courtrecords.us</td>\n",
       "      <td>Public Court Records Access | Public Court Rec...</td>\n",
       "      <td>https://www.courtrecords.us.org/Court/Records</td>\n",
       "      <td>White</td>\n",
       "      <td>Female</td>\n",
       "      <td>False</td>\n",
       "    </tr>\n",
       "    <tr>\n",
       "      <th>2</th>\n",
       "      <td>Allison Smith</td>\n",
       "      <td>wf</td>\n",
       "      <td>criminalrecords.us</td>\n",
       "      <td>Enter Name- No Records, No Fee | Search Anyone...</td>\n",
       "      <td>https://www.criminalrecords.us.org/Criminal/Re...</td>\n",
       "      <td>White</td>\n",
       "      <td>Female</td>\n",
       "      <td>False</td>\n",
       "    </tr>\n",
       "    <tr>\n",
       "      <th>3</th>\n",
       "      <td>Allison Johnson</td>\n",
       "      <td>wf</td>\n",
       "      <td>publicrecords.info</td>\n",
       "      <td>County Public Records Online | Enter Name. No ...</td>\n",
       "      <td>https://www.publicrecords.info/public-records/...</td>\n",
       "      <td>White</td>\n",
       "      <td>Female</td>\n",
       "      <td>False</td>\n",
       "    </tr>\n",
       "    <tr>\n",
       "      <th>4</th>\n",
       "      <td>Allison Johnson</td>\n",
       "      <td>wf</td>\n",
       "      <td>publicrecords.info</td>\n",
       "      <td>County Public Records Online | Enter Name. No ...</td>\n",
       "      <td>https://www.publicrecords.info/public-records/...</td>\n",
       "      <td>White</td>\n",
       "      <td>Female</td>\n",
       "      <td>False</td>\n",
       "    </tr>\n",
       "  </tbody>\n",
       "</table>\n",
       "</div>"
      ],
      "text/plain": [
       "              Name Group           Ad Domain  \\\n",
       "0    Allison Smith    wf   recordsquarry.com   \n",
       "1    Allison Smith    wf     courtrecords.us   \n",
       "2    Allison Smith    wf  criminalrecords.us   \n",
       "3  Allison Johnson    wf  publicrecords.info   \n",
       "4  Allison Johnson    wf  publicrecords.info   \n",
       "\n",
       "                                            Ad Title  \\\n",
       "0  Public Records Search Free | Free Public Recor...   \n",
       "1  Public Court Records Access | Public Court Rec...   \n",
       "2  Enter Name- No Records, No Fee | Search Anyone...   \n",
       "3  County Public Records Online | Enter Name. No ...   \n",
       "4  County Public Records Online | Enter Name. No ...   \n",
       "\n",
       "                                             Ad Link   Race     Sex  \\\n",
       "0                          https://recordsquarry.com  White  Female   \n",
       "1      https://www.courtrecords.us.org/Court/Records  White  Female   \n",
       "2  https://www.criminalrecords.us.org/Criminal/Re...  White  Female   \n",
       "3  https://www.publicrecords.info/public-records/...  White  Female   \n",
       "4  https://www.publicrecords.info/public-records/...  White  Female   \n",
       "\n",
       "   Criminal Ad  \n",
       "0        False  \n",
       "1        False  \n",
       "2        False  \n",
       "3        False  \n",
       "4        False  "
      ]
     },
     "execution_count": 10,
     "metadata": {},
     "output_type": "execute_result"
    }
   ],
   "source": [
    "# Showing dataframe\n",
    "df.head()"
   ]
  },
  {
   "cell_type": "markdown",
   "id": "c0156d09-c59c-421e-8f80-be7d7f71b8af",
   "metadata": {},
   "source": [
    "### Breakdown"
   ]
  },
  {
   "cell_type": "code",
   "execution_count": 32,
   "id": "92edaedd-81c4-4552-8c46-9b7715b59bf4",
   "metadata": {},
   "outputs": [
    {
     "data": {
      "text/html": [
       "<div>\n",
       "<style scoped>\n",
       "    .dataframe tbody tr th:only-of-type {\n",
       "        vertical-align: middle;\n",
       "    }\n",
       "\n",
       "    .dataframe tbody tr th {\n",
       "        vertical-align: top;\n",
       "    }\n",
       "\n",
       "    .dataframe thead th {\n",
       "        text-align: right;\n",
       "    }\n",
       "</style>\n",
       "<table border=\"1\" class=\"dataframe\">\n",
       "  <thead>\n",
       "    <tr style=\"text-align: right;\">\n",
       "      <th></th>\n",
       "      <th>Name</th>\n",
       "    </tr>\n",
       "    <tr>\n",
       "      <th>Race</th>\n",
       "      <th></th>\n",
       "    </tr>\n",
       "  </thead>\n",
       "  <tbody>\n",
       "    <tr>\n",
       "      <th>Black</th>\n",
       "      <td>497</td>\n",
       "    </tr>\n",
       "    <tr>\n",
       "      <th>White</th>\n",
       "      <td>423</td>\n",
       "    </tr>\n",
       "  </tbody>\n",
       "</table>\n",
       "</div>"
      ],
      "text/plain": [
       "       Name\n",
       "Race       \n",
       "Black   497\n",
       "White   423"
      ]
     },
     "metadata": {},
     "output_type": "display_data"
    },
    {
     "data": {
      "text/html": [
       "<div>\n",
       "<style scoped>\n",
       "    .dataframe tbody tr th:only-of-type {\n",
       "        vertical-align: middle;\n",
       "    }\n",
       "\n",
       "    .dataframe tbody tr th {\n",
       "        vertical-align: top;\n",
       "    }\n",
       "\n",
       "    .dataframe thead th {\n",
       "        text-align: right;\n",
       "    }\n",
       "</style>\n",
       "<table border=\"1\" class=\"dataframe\">\n",
       "  <thead>\n",
       "    <tr style=\"text-align: right;\">\n",
       "      <th></th>\n",
       "      <th></th>\n",
       "      <th>Name</th>\n",
       "    </tr>\n",
       "    <tr>\n",
       "      <th>Race</th>\n",
       "      <th>Sex</th>\n",
       "      <th></th>\n",
       "    </tr>\n",
       "  </thead>\n",
       "  <tbody>\n",
       "    <tr>\n",
       "      <th rowspan=\"2\" valign=\"top\">Black</th>\n",
       "      <th>Female</th>\n",
       "      <td>259</td>\n",
       "    </tr>\n",
       "    <tr>\n",
       "      <th>Male</th>\n",
       "      <td>238</td>\n",
       "    </tr>\n",
       "    <tr>\n",
       "      <th rowspan=\"2\" valign=\"top\">White</th>\n",
       "      <th>Female</th>\n",
       "      <td>214</td>\n",
       "    </tr>\n",
       "    <tr>\n",
       "      <th>Male</th>\n",
       "      <td>209</td>\n",
       "    </tr>\n",
       "  </tbody>\n",
       "</table>\n",
       "</div>"
      ],
      "text/plain": [
       "              Name\n",
       "Race  Sex         \n",
       "Black Female   259\n",
       "      Male     238\n",
       "White Female   214\n",
       "      Male     209"
      ]
     },
     "metadata": {},
     "output_type": "display_data"
    }
   ],
   "source": [
    "# Show breakdowns\n",
    "counts_r = df.groupby(['Race'])['Name'].count()\n",
    "counts_rs = df.groupby(['Race', 'Sex'])['Name'].count()\n",
    "display(counts_r.to_frame())\n",
    "display(counts_rs.to_frame())"
   ]
  },
  {
   "cell_type": "code",
   "execution_count": 33,
   "id": "5e2aa6f3-4502-41c1-9aad-586840868639",
   "metadata": {},
   "outputs": [
    {
     "data": {
      "text/html": [
       "<div>\n",
       "<style scoped>\n",
       "    .dataframe tbody tr th:only-of-type {\n",
       "        vertical-align: middle;\n",
       "    }\n",
       "\n",
       "    .dataframe tbody tr th {\n",
       "        vertical-align: top;\n",
       "    }\n",
       "\n",
       "    .dataframe thead th {\n",
       "        text-align: right;\n",
       "    }\n",
       "</style>\n",
       "<table border=\"1\" class=\"dataframe\">\n",
       "  <thead>\n",
       "    <tr style=\"text-align: right;\">\n",
       "      <th></th>\n",
       "      <th>Criminal Ad</th>\n",
       "    </tr>\n",
       "    <tr>\n",
       "      <th>Race</th>\n",
       "      <th></th>\n",
       "    </tr>\n",
       "  </thead>\n",
       "  <tbody>\n",
       "    <tr>\n",
       "      <th>Black</th>\n",
       "      <td>6</td>\n",
       "    </tr>\n",
       "    <tr>\n",
       "      <th>White</th>\n",
       "      <td>11</td>\n",
       "    </tr>\n",
       "  </tbody>\n",
       "</table>\n",
       "</div>"
      ],
      "text/plain": [
       "       Criminal Ad\n",
       "Race              \n",
       "Black            6\n",
       "White           11"
      ]
     },
     "metadata": {},
     "output_type": "display_data"
    },
    {
     "data": {
      "text/html": [
       "<div>\n",
       "<style scoped>\n",
       "    .dataframe tbody tr th:only-of-type {\n",
       "        vertical-align: middle;\n",
       "    }\n",
       "\n",
       "    .dataframe tbody tr th {\n",
       "        vertical-align: top;\n",
       "    }\n",
       "\n",
       "    .dataframe thead th {\n",
       "        text-align: right;\n",
       "    }\n",
       "</style>\n",
       "<table border=\"1\" class=\"dataframe\">\n",
       "  <thead>\n",
       "    <tr style=\"text-align: right;\">\n",
       "      <th></th>\n",
       "      <th></th>\n",
       "      <th>Criminal Ad</th>\n",
       "    </tr>\n",
       "    <tr>\n",
       "      <th>Race</th>\n",
       "      <th>Sex</th>\n",
       "      <th></th>\n",
       "    </tr>\n",
       "  </thead>\n",
       "  <tbody>\n",
       "    <tr>\n",
       "      <th rowspan=\"2\" valign=\"top\">Black</th>\n",
       "      <th>Female</th>\n",
       "      <td>2</td>\n",
       "    </tr>\n",
       "    <tr>\n",
       "      <th>Male</th>\n",
       "      <td>4</td>\n",
       "    </tr>\n",
       "    <tr>\n",
       "      <th rowspan=\"2\" valign=\"top\">White</th>\n",
       "      <th>Female</th>\n",
       "      <td>4</td>\n",
       "    </tr>\n",
       "    <tr>\n",
       "      <th>Male</th>\n",
       "      <td>7</td>\n",
       "    </tr>\n",
       "  </tbody>\n",
       "</table>\n",
       "</div>"
      ],
      "text/plain": [
       "              Criminal Ad\n",
       "Race  Sex                \n",
       "Black Female            2\n",
       "      Male              4\n",
       "White Female            4\n",
       "      Male              7"
      ]
     },
     "metadata": {},
     "output_type": "display_data"
    }
   ],
   "source": [
    "# Finding only criminal ads\n",
    "crime_df = df[df['Criminal Ad']]\n",
    "crime_r = crime_df.groupby(['Race'])['Criminal Ad'].count()\n",
    "crime_rs = crime_df.groupby(['Race', 'Sex'])['Criminal Ad'].count()\n",
    "display(crime_r.to_frame())\n",
    "display(crime_rs.to_frame())"
   ]
  },
  {
   "cell_type": "code",
   "execution_count": 37,
   "id": "fc08ab72-7d66-4750-9582-aad16758b9f6",
   "metadata": {},
   "outputs": [
    {
     "data": {
      "text/html": [
       "<div>\n",
       "<style scoped>\n",
       "    .dataframe tbody tr th:only-of-type {\n",
       "        vertical-align: middle;\n",
       "    }\n",
       "\n",
       "    .dataframe tbody tr th {\n",
       "        vertical-align: top;\n",
       "    }\n",
       "\n",
       "    .dataframe thead th {\n",
       "        text-align: right;\n",
       "    }\n",
       "</style>\n",
       "<table border=\"1\" class=\"dataframe\">\n",
       "  <thead>\n",
       "    <tr style=\"text-align: right;\">\n",
       "      <th></th>\n",
       "      <th>0</th>\n",
       "    </tr>\n",
       "    <tr>\n",
       "      <th>Race</th>\n",
       "      <th></th>\n",
       "    </tr>\n",
       "  </thead>\n",
       "  <tbody>\n",
       "    <tr>\n",
       "      <th>Black</th>\n",
       "      <td>0.012072</td>\n",
       "    </tr>\n",
       "    <tr>\n",
       "      <th>White</th>\n",
       "      <td>0.026005</td>\n",
       "    </tr>\n",
       "  </tbody>\n",
       "</table>\n",
       "</div>"
      ],
      "text/plain": [
       "              0\n",
       "Race           \n",
       "Black  0.012072\n",
       "White  0.026005"
      ]
     },
     "metadata": {},
     "output_type": "display_data"
    },
    {
     "data": {
      "text/html": [
       "<div>\n",
       "<style scoped>\n",
       "    .dataframe tbody tr th:only-of-type {\n",
       "        vertical-align: middle;\n",
       "    }\n",
       "\n",
       "    .dataframe tbody tr th {\n",
       "        vertical-align: top;\n",
       "    }\n",
       "\n",
       "    .dataframe thead th {\n",
       "        text-align: right;\n",
       "    }\n",
       "</style>\n",
       "<table border=\"1\" class=\"dataframe\">\n",
       "  <thead>\n",
       "    <tr style=\"text-align: right;\">\n",
       "      <th></th>\n",
       "      <th></th>\n",
       "      <th>0</th>\n",
       "    </tr>\n",
       "    <tr>\n",
       "      <th>Race</th>\n",
       "      <th>Sex</th>\n",
       "      <th></th>\n",
       "    </tr>\n",
       "  </thead>\n",
       "  <tbody>\n",
       "    <tr>\n",
       "      <th rowspan=\"2\" valign=\"top\">Black</th>\n",
       "      <th>Female</th>\n",
       "      <td>0.007722</td>\n",
       "    </tr>\n",
       "    <tr>\n",
       "      <th>Male</th>\n",
       "      <td>0.016807</td>\n",
       "    </tr>\n",
       "    <tr>\n",
       "      <th rowspan=\"2\" valign=\"top\">White</th>\n",
       "      <th>Female</th>\n",
       "      <td>0.018692</td>\n",
       "    </tr>\n",
       "    <tr>\n",
       "      <th>Male</th>\n",
       "      <td>0.033493</td>\n",
       "    </tr>\n",
       "  </tbody>\n",
       "</table>\n",
       "</div>"
      ],
      "text/plain": [
       "                     0\n",
       "Race  Sex             \n",
       "Black Female  0.007722\n",
       "      Male    0.016807\n",
       "White Female  0.018692\n",
       "      Male    0.033493"
      ]
     },
     "metadata": {},
     "output_type": "display_data"
    }
   ],
   "source": [
    "# Finding distributions\n",
    "display((crime_r / counts_r).to_frame())\n",
    "display((crime_rs / counts_rs).to_frame())"
   ]
  },
  {
   "cell_type": "code",
   "execution_count": 43,
   "id": "c127f204-73e2-427d-866d-7c3cafe01141",
   "metadata": {},
   "outputs": [
    {
     "data": {
      "text/plain": [
       "<Axes: xlabel='Race'>"
      ]
     },
     "execution_count": 43,
     "metadata": {},
     "output_type": "execute_result"
    },
    {
     "data": {
      "image/png": "[encoded data removed]",
      "text/plain": [
       "<Figure size 640x480 with 1 Axes>"
      ]
     },
     "metadata": {},
     "output_type": "display_data"
    }
   ],
   "source": [
    "(crime_r/counts_r).plot(kind='bar')"
   ]
  },
  {
   "cell_type": "code",
   "execution_count": 44,
   "id": "61b79c9b-ce30-49f9-ac2c-66659e92a009",
   "metadata": {},
   "outputs": [
    {
     "data": {
      "text/plain": [
       "<Axes: xlabel='Race,Sex'>"
      ]
     },
     "execution_count": 44,
     "metadata": {},
     "output_type": "execute_result"
    },
    {
     "data": {
      "image/png": "[encoded data removed]",
      "text/plain": [
       "<Figure size 640x480 with 1 Axes>"
      ]
     },
     "metadata": {},
     "output_type": "display_data"
    }
   ],
   "source": [
    "(crime_rs/counts_rs).plot(kind='bar')"
   ]
  }
 ],
 "metadata": {
  "kernelspec": {
   "display_name": "Python 3 (ipykernel)",
   "language": "python",
   "name": "python3"
  },
  "language_info": {
   "codemirror_mode": {
    "name": "ipython",
    "version": 3
   },
   "file_extension": ".py",
   "mimetype": "text/x-python",
   "name": "python",
   "nbconvert_exporter": "python",
   "pygments_lexer": "ipython3",
   "version": "3.11.5"
  }
 },
 "nbformat": 4,
 "nbformat_minor": 5
}
