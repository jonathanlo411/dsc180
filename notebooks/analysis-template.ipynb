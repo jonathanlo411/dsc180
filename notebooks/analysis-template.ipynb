{
 "cells": [
  {
   "cell_type": "markdown",
   "metadata": {},
   "source": [
    "# Analysis Template\n",
    "Purpose is to demonstrate how to use `script.py` and a notebook in conjunction for analysis.<br>\n",
    "By: Jonathan Lo<br>\n",
    "Date: 12/1/23\n"
   ]
  },
  {
   "cell_type": "code",
   "execution_count": 1,
   "metadata": {
    "vscode": {
     "languageId": "plaintext"
    }
   },
   "outputs": [],
   "source": [
    "# Imports\n",
    "import os\n",
    "import re\n",
    "import logging\n",
    "import pandas as pd\n",
    "\n",
    "from bs4 import BeautifulSoup\n",
    "from collections import defaultdict"
   ]
  },
  {
   "cell_type": "markdown",
   "metadata": {},
   "source": [
    "## Loading Data"
   ]
  },
  {
   "cell_type": "markdown",
   "metadata": {},
   "source": [
    "### Standard `results.csv`"
   ]
  },
  {
   "cell_type": "code",
   "execution_count": 2,
   "metadata": {},
   "outputs": [
    {
     "data": {
      "text/html": [
       "<div>\n",
       "<style scoped>\n",
       "    .dataframe tbody tr th:only-of-type {\n",
       "        vertical-align: middle;\n",
       "    }\n",
       "\n",
       "    .dataframe tbody tr th {\n",
       "        vertical-align: top;\n",
       "    }\n",
       "\n",
       "    .dataframe thead th {\n",
       "        text-align: right;\n",
       "    }\n",
       "</style>\n",
       "<table border=\"1\" class=\"dataframe\">\n",
       "  <thead>\n",
       "    <tr style=\"text-align: right;\">\n",
       "      <th></th>\n",
       "      <th>Name</th>\n",
       "      <th>Group</th>\n",
       "      <th>Ad Domain</th>\n",
       "      <th>Ad Title</th>\n",
       "      <th>Ad Link</th>\n",
       "    </tr>\n",
       "  </thead>\n",
       "  <tbody>\n",
       "    <tr>\n",
       "      <th>0</th>\n",
       "      <td>Allison Smith</td>\n",
       "      <td>wf</td>\n",
       "      <td>police.us</td>\n",
       "      <td>Criminal Records Are Public | Enter Name- No R...</td>\n",
       "      <td>https://www.police.us.org/State/Records</td>\n",
       "    </tr>\n",
       "    <tr>\n",
       "      <th>1</th>\n",
       "      <td>Allison Smith</td>\n",
       "      <td>wf</td>\n",
       "      <td>propertyrecord.com</td>\n",
       "      <td>Public Property Records Search | County Proper...</td>\n",
       "      <td>https://www.propertyrecord.com/Property-Record...</td>\n",
       "    </tr>\n",
       "    <tr>\n",
       "      <th>2</th>\n",
       "      <td>Allison Smith</td>\n",
       "      <td>wf</td>\n",
       "      <td>criminalrecords.us</td>\n",
       "      <td>Enter Name- No Records, No Fee | Find Public R...</td>\n",
       "      <td>https://www.criminalrecords.us.org/Criminal/Re...</td>\n",
       "    </tr>\n",
       "  </tbody>\n",
       "</table>\n",
       "</div>"
      ],
      "text/plain": [
       "            Name Group           Ad Domain  \\\n",
       "0  Allison Smith    wf           police.us   \n",
       "1  Allison Smith    wf  propertyrecord.com   \n",
       "2  Allison Smith    wf  criminalrecords.us   \n",
       "\n",
       "                                            Ad Title  \\\n",
       "0  Criminal Records Are Public | Enter Name- No R...   \n",
       "1  Public Property Records Search | County Proper...   \n",
       "2  Enter Name- No Records, No Fee | Find Public R...   \n",
       "\n",
       "                                             Ad Link  \n",
       "0            https://www.police.us.org/State/Records  \n",
       "1  https://www.propertyrecord.com/Property-Record...  \n",
       "2  https://www.criminalrecords.us.org/Criminal/Re...  "
      ]
     },
     "execution_count": 2,
     "metadata": {},
     "output_type": "execute_result"
    }
   ],
   "source": [
    "# Example\n",
    "df = pd.read_csv('../results.csv').drop('Unnamed: 0', axis=1)\n",
    "df.head(3)"
   ]
  },
  {
   "cell_type": "markdown",
   "metadata": {},
   "source": [
    "### Utilizing `parse_bing_ads()`"
   ]
  },
  {
   "cell_type": "code",
   "execution_count": 3,
   "metadata": {},
   "outputs": [],
   "source": [
    "def parse_bing_ads(raw_html, query):\n",
    "    \"\"\" Parses the doman.TLD and the title, URL from the HTML\n",
    "    \"\"\"\n",
    "    compiled = defaultdict(list)\n",
    "    pattern = r'(?:http[s]?://)?(?:www\\.)?([\\w-]+\\.[\\w-]+)' # Matches the domain and TLD of a URL\n",
    "    ads = BeautifulSoup(raw_html).select('.sb_add')\n",
    "    for ad in ads:\n",
    "        try:\n",
    "            title = ad.select_one('h2').text\n",
    "            link = ad.select_one('.b_adurl').text\n",
    "            match = re.search(pattern, link)\n",
    "            domain = match.group(1) if match else 'ERROR'\n",
    "            compiled[domain].append((title, link))\n",
    "        except Exception as e:\n",
    "            logging.debug(f'Failed to parse ad HTML on query: {query}')\n",
    "    return compiled"
   ]
  },
  {
   "cell_type": "code",
   "execution_count": 4,
   "metadata": {},
   "outputs": [],
   "source": [
    "# Initialize \n",
    "path_to_raw_html = './../html/'\n",
    "all_ads = [['Name', 'Group', 'Ad Domain', 'Ad Title', 'Ad Link']]\n",
    "\n",
    "# Load HTML and pass into `parse_bing_ads()`\n",
    "for html_path in os.listdir(path_to_raw_html):\n",
    "    with open(os.path.join(path_to_raw_html, html_path), 'r') as f:\n",
    "        # Parsing raw HTML\n",
    "        group, name = html_path[:2], html_path[3:].replace('.html', '').replace('_', ' ')\n",
    "        raw_html = f.read()\n",
    "        parsed = parse_bing_ads(raw_html, name)\n",
    "\n",
    "        # Saving for later use\n",
    "        for domain, ad_items in parsed.items():\n",
    "            for ad_opts in ad_items:\n",
    "                all_ads.append([name, group, domain, ad_opts[0], ad_opts[1]])"
   ]
  },
  {
   "cell_type": "code",
   "execution_count": 5,
   "metadata": {},
   "outputs": [
    {
     "data": {
      "text/html": [
       "<div>\n",
       "<style scoped>\n",
       "    .dataframe tbody tr th:only-of-type {\n",
       "        vertical-align: middle;\n",
       "    }\n",
       "\n",
       "    .dataframe tbody tr th {\n",
       "        vertical-align: top;\n",
       "    }\n",
       "\n",
       "    .dataframe thead th {\n",
       "        text-align: right;\n",
       "    }\n",
       "</style>\n",
       "<table border=\"1\" class=\"dataframe\">\n",
       "  <thead>\n",
       "    <tr style=\"text-align: right;\">\n",
       "      <th></th>\n",
       "      <th>Name</th>\n",
       "      <th>Group</th>\n",
       "      <th>Ad Domain</th>\n",
       "      <th>Ad Title</th>\n",
       "      <th>Ad Link</th>\n",
       "    </tr>\n",
       "  </thead>\n",
       "  <tbody>\n",
       "    <tr>\n",
       "      <th>0</th>\n",
       "      <td>Hakim Jones</td>\n",
       "      <td>bm</td>\n",
       "      <td>peoplelooker.com</td>\n",
       "      <td>Search For HAKIM JONES | See Results For HAKIM...</td>\n",
       "      <td>https://www.peoplelooker.com/Public_Records/Pe...</td>\n",
       "    </tr>\n",
       "    <tr>\n",
       "      <th>1</th>\n",
       "      <td>Hakim Jones</td>\n",
       "      <td>bm</td>\n",
       "      <td>PublicRecordsNow.com</td>\n",
       "      <td>Hakim Jones (Found)</td>\n",
       "      <td>http://www.PublicRecordsNow.com/Hakim Jones</td>\n",
       "    </tr>\n",
       "    <tr>\n",
       "      <th>2</th>\n",
       "      <td>Kareem Johnson</td>\n",
       "      <td>bm</td>\n",
       "      <td>peoplelooker.com</td>\n",
       "      <td>View Public Records Online | Search Now to Dis...</td>\n",
       "      <td>https://www.peoplelooker.com/Public_Records/Pe...</td>\n",
       "    </tr>\n",
       "  </tbody>\n",
       "</table>\n",
       "</div>"
      ],
      "text/plain": [
       "             Name Group             Ad Domain  \\\n",
       "0     Hakim Jones    bm      peoplelooker.com   \n",
       "1     Hakim Jones    bm  PublicRecordsNow.com   \n",
       "2  Kareem Johnson    bm      peoplelooker.com   \n",
       "\n",
       "                                            Ad Title  \\\n",
       "0  Search For HAKIM JONES | See Results For HAKIM...   \n",
       "1                                Hakim Jones (Found)   \n",
       "2  View Public Records Online | Search Now to Dis...   \n",
       "\n",
       "                                             Ad Link  \n",
       "0  https://www.peoplelooker.com/Public_Records/Pe...  \n",
       "1        http://www.PublicRecordsNow.com/Hakim Jones  \n",
       "2  https://www.peoplelooker.com/Public_Records/Pe...  "
      ]
     },
     "execution_count": 5,
     "metadata": {},
     "output_type": "execute_result"
    }
   ],
   "source": [
    "# Example\n",
    "df = pd.DataFrame(all_ads[1:], columns=all_ads[0])\n",
    "df.head(3)"
   ]
  },
  {
   "cell_type": "markdown",
   "metadata": {},
   "source": [
    "### Just loading the `BS4` parser for future querying"
   ]
  },
  {
   "cell_type": "code",
   "execution_count": 6,
   "metadata": {},
   "outputs": [],
   "source": [
    "path_to_raw_html = './../html/'\n",
    "all_ads = []\n",
    "\n",
    "# Load HTML and pass into `parse_bing_ads()`\n",
    "for html_path in os.listdir(path_to_raw_html):\n",
    "    with open(os.path.join(path_to_raw_html, html_path), 'r') as f:\n",
    "        # Parsing raw HTML\n",
    "        group, name = html_path[:2], html_path[3:].replace('.html', '').replace('_', ' ')\n",
    "        raw_html = f.read()\n",
    "\n",
    "        # Saving bs4\n",
    "        all_ads.append(BeautifulSoup(raw_html))"
   ]
  },
  {
   "cell_type": "code",
   "execution_count": 7,
   "metadata": {
    "scrolled": true
   },
   "outputs": [
    {
     "data": {
      "text/plain": [
       "<div class=\"sb_add sb_adTA b_adscv\" style=\"contain-intrinsic-size: 245px\"><h2 class=\"\"><a class=\"\" h=\"ID=SERP,5599.1,Ads\" href=\"https://www.bing.com/aclk?ld=e8tx2w_sWxZIa-mSrivXrrxjVUCUyV6j77wFnI_wxK7Ammrd5wiSPokeF34t-8mUcSZ2-bMvD9xn5RVE-esxJGUrEgOw-0HfAmePHSPnJh_o6cBunhTDIfMeX_ca_8FO--tCSrOAERjuvCd8z09FSXgqtOfLzzSpAH0veb2IUx6olhQiJkrKyFt_yUCMPR53AHCg-jXw&amp;u=aHR0cHMlM2ElMmYlMmZ3d3cucGVvcGxlbG9va2VyLmNvbSUyZiUzZmZuJTNkSEFLSU0lMjZtbiUyNmxuJTNkSk9ORVMlMjZ1dG1fc291cmNlJTNkYmluZyUyNnV0bV9tZWRpdW0lM2RjcGMlMjZ1dG1fY2FtcGFpZ24lM2RQTF9QUExfU0VBX1BSUF9OQU1fRnVsbF9GN18xODAwLTIxMDBfUGhyYXNlX0IlMjZ1dG1fdGVybSUzZEhBS0lNJTI1MjBKT05FUyUyNnV0bV9jb250ZW50JTNkJTI2bWF0Y2h0eXBlJTNkcCUyNmFkZ3JvdXAlM2QxMzM1OTA4MjU0MDY0NDA1JTI2ZGV2aWNlJTNkYyUyNmJfY2FtcGFpZ25pZCUzZDQzMTE0MTU4OSUyNmJfcHJvZHVjdGlkJTNkJTI2Yl90ZXJtaWQlM2Rrd2QtODM0OTUyNjEwMDIyMzYlM2Fsb2MtMTkwJTI2Yl9hZGdyb3VwaWQlM2QxMzM1OTA4MjU0MDY0NDA1JTI2Yl9jYW1wYWlnbiUzZFBMX1BQTF9TRUFfUFJQX05BTV9GdWxsX0Y3XzE4MDAtMjEwMF9QaHJhc2VfQiUyNmJfaXNwcm9kdWN0JTNkJTI2Yl90ZXJtJTNkSEFLSU0lMjUyMEpPTkVTJTI2Yl9hZGdyb3VwJTNkRjdfQUcxMiUyNmJfYWRpZCUzZDgzNDk0NTIyOTkxNDQ0JTI2bXNjbGtpZCUzZDU2YzAyNmRiNDE4MTFiYmFmMzJkNDNiMDI5OTFlMzNh&amp;rlid=56c026db41811bbaf32d43b02991e33a\" id=\"hhdtsal\" role=\"link\"><strong>Search</strong> For <strong>HAKIM</strong> <strong>JONES</strong> | See Results For <strong>HAKIM</strong> <strong>JONES</strong></a></h2><div class=\"b_caption\" role=\"contentinfo\"><div class=\"b_attribution\"><div class=\"b_adurl\" style=\"max-width: 585px\"><cite><a class=\"\" h=\"ID=SERP,5599.2,Ads\" href=\"https://www.bing.com/aclk?ld=e8tx2w_sWxZIa-mSrivXrrxjVUCUyV6j77wFnI_wxK7Ammrd5wiSPokeF34t-8mUcSZ2-bMvD9xn5RVE-esxJGUrEgOw-0HfAmePHSPnJh_o6cBunhTDIfMeX_ca_8FO--tCSrOAERjuvCd8z09FSXgqtOfLzzSpAH0veb2IUx6olhQiJkrKyFt_yUCMPR53AHCg-jXw&amp;u=aHR0cHMlM2ElMmYlMmZ3d3cucGVvcGxlbG9va2VyLmNvbSUyZiUzZmZuJTNkSEFLSU0lMjZtbiUyNmxuJTNkSk9ORVMlMjZ1dG1fc291cmNlJTNkYmluZyUyNnV0bV9tZWRpdW0lM2RjcGMlMjZ1dG1fY2FtcGFpZ24lM2RQTF9QUExfU0VBX1BSUF9OQU1fRnVsbF9GN18xODAwLTIxMDBfUGhyYXNlX0IlMjZ1dG1fdGVybSUzZEhBS0lNJTI1MjBKT05FUyUyNnV0bV9jb250ZW50JTNkJTI2bWF0Y2h0eXBlJTNkcCUyNmFkZ3JvdXAlM2QxMzM1OTA4MjU0MDY0NDA1JTI2ZGV2aWNlJTNkYyUyNmJfY2FtcGFpZ25pZCUzZDQzMTE0MTU4OSUyNmJfcHJvZHVjdGlkJTNkJTI2Yl90ZXJtaWQlM2Rrd2QtODM0OTUyNjEwMDIyMzYlM2Fsb2MtMTkwJTI2Yl9hZGdyb3VwaWQlM2QxMzM1OTA4MjU0MDY0NDA1JTI2Yl9jYW1wYWlnbiUzZFBMX1BQTF9TRUFfUFJQX05BTV9GdWxsX0Y3XzE4MDAtMjEwMF9QaHJhc2VfQiUyNmJfaXNwcm9kdWN0JTNkJTI2Yl90ZXJtJTNkSEFLSU0lMjUyMEpPTkVTJTI2Yl9hZGdyb3VwJTNkRjdfQUcxMiUyNmJfYWRpZCUzZDgzNDk0NTIyOTkxNDQ0JTI2bXNjbGtpZCUzZDU2YzAyNmRiNDE4MTFiYmFmMzJkNDNiMDI5OTFlMzNh&amp;rlid=56c026db41811bbaf32d43b02991e33a\" id=\"vpbvvg\" role=\"link\">https://www.peoplelooker.com/<strong>Public</strong>_<strong>Records</strong>/People_<strong>Search</strong></a></cite></div><a ceb=\"\" class=\"b_adcaret\" href=\"javascript:void(0)\" title=\"About our ads\"><div class=\"infobubble_item\" data-id=\"/control/AdChoiceAjax?ns=SERP&amp;key=5598&amp;id=2&amp;ads=peoplelooker.com%2cpeoplelooker.com%2cPeopleLooker%2cUS%2cPeopleLooker%2chttps%3a%2f%2fadlibrary.ads.microsoft.com%2fadvertiser%2f135100106%2cTrue%2c1%2c2\"><span class=\"sw_ddgn\"></span></div></a></div><div class=\"b_ad_description\"><span class=\"b_adSlug b_opttxt b_divdef\">Ad</span>We Found <strong>HAKIM</strong> <strong>JONES</strong>'s <strong>Public</strong> <strong>Records</strong>, Phone, Address, Social Media &amp; More. Get the Best Value For Your Money. Try Us &amp; Get a Detailed Report Almost Instantly.</div><p class=\"b_topAdOneLine b_secondaryText\">peoplelooker.com has been visited by 100K+ users in the past month</p><p class=\"b_secondaryText callout_vis\" data-partnertag=\"Ads.Callout\">A Focus on Data Quality · Quick &amp; Easy To Use · Career Records · Email Alerts</p><div class=\"b_secondaryText\"><strong>Service catalog</strong>: Reverse Email Search, Reverse Phone Search, Search A Name</div></div><div class=\"b_vlist2col b_deep\"><ul><li><span class=\"b_ads1line ad_vsl\"><a class=\"ad_vslWiderClk\" h=\"ID=SERP,5605.1,Ads\" href=\"https://www.bing.com/aclk?ld=e8I7JbUzGofQye7ovoV2PZczVUCUwGYFTek-lj6S5R0NH8cfqiEmd-I8UYP3-5Nt1kp7LtAPyUqc-qyY0HUMmX4Q3FZRFWYaEYmyFA_5IJW0O73TlnPwY04tgZ6VX4GOc8un-K98aKlzecMDLvgnClW93qKMPaa_MHbM8wiTJIxZAXG3nxRQnwGMRhs6Dg1EYaE5lKprATURm_TiL59tF_jhYyQIk&amp;u=aHR0cCUzYSUyZiUyZnBlb3BsZWxvb2tlci5jb20lMmYlM2Z1dG1fc291cmNlJTNkYmluZyUyNnV0bV9tZWRpdW0lM2RjcGMlMjYlN2Jjb3B5JTNhdXRtX2NhbXBhaWduJTdkJTI2JTdiY29weSUzYXV0bV90ZXJtJTdkJTI2JTdiY29weSUzYWRldmljZSU3ZCUyNiU3YmNvcHklM2FjcmVhdGl2ZSU3ZCUyNiU3YmNvcHklM2FtYXRjaHR5cGUlN2QlMjYlN2Jjb3B5JTNhYWRncm91cCU3ZCUyNnNpdGVsaW5rJTNkQl9QdWJsaWMlMmJSZWNvcmRzX3NpdGVsaW5rJTI2cXVlcnklM2QlN2JRdWVyeVN0cmluZyU3ZCUyNnV0bV9zb3VyY2UlM2RiaW5nJTI2dXRtX21lZGl1bSUzZGNwYyUyNnV0bV9jYW1wYWlnbiUzZFBMX1BQTF9TRUFfUFJQX05BTV9GdWxsX0Y3XzE4MDAtMjEwMF9QaHJhc2VfQiUyNnV0bV90ZXJtJTNkSEFLSU0lMjUyMEpPTkVTJTI2dXRtX2NvbnRlbnQlM2QlMjZtYXRjaHR5cGUlM2RwJTI2YWRncm91cCUzZDEzMzU5MDgyNTQwNjQ0MDUlMjZkZXZpY2UlM2RjJTI2Yl9jYW1wYWlnbmlkJTNkNDMxMTQxNTg5JTI2Yl9wcm9kdWN0aWQlM2QlMjZiX3Rlcm1pZCUzZGt3ZC04MzQ5NTI2MTAwMjIzNiUzYWxvYy0xOTAlMjZiX2FkZ3JvdXBpZCUzZDEzMzU5MDgyNTQwNjQ0MDUlMjZiX2NhbXBhaWduJTNkUExfUFBMX1NFQV9QUlBfTkFNX0Z1bGxfRjdfMTgwMC0yMTAwX1BocmFzZV9CJTI2Yl9pc3Byb2R1Y3QlM2QlMjZiX3Rlcm0lM2RIQUtJTSUyNTIwSk9ORVMlMjZiX2FkZ3JvdXAlM2RGN19BRzEyJTI2Yl9hZGlkJTNkODM0OTQ1MjI5OTE0NDQlMjZtc2Nsa2lkJTNkMmI1NzE1Y2ZjYWEzMWU0MmI3ZmY3MGE0YTJiM2RlM2Q&amp;rlid=2b5715cfcaa31e42b7ff70a4a2b3de3d\" id=\"itlaolz\" role=\"link\">Public Records</a></span></li><li><span class=\"b_ads1line ad_vsl\"><a class=\"ad_vslWiderClk\" h=\"ID=SERP,5607.1,Ads\" href=\"https://www.bing.com/aclk?ld=e8hXbvzavxMpqwYvLzF7njRjVUCUwdjryckikJrtt__uxyXaq5rqHvRuFxwesqlzZIjog83IPje-4AsPIr_zpUkntpROFUyey93PWErVQCUjkybcHQsvGQWHGNiYcJYbmA2ZgwCq2ggYAJ8qkwyo_slLEbPn4r8ZLXBlouMJ9DOV1hqOcp1S9Szdm43UE4AK3Hixzs4OtumtrCiWtbjARHmSSsSMI&amp;u=aHR0cHMlM2ElMmYlMmZ3d3cucGVvcGxlbG9va2VyLmNvbSUyZiUzZnV0bV9zb3VyY2UlM2RiaW5nJTI2dXRtX21lZGl1bSUzZGNwYyUyNnV0bV9jYW1wYWlnbiUzZFBMX0FMTF9TRUFfUFJQX0NPTV9FeGFjdF9CJTI2dXRtX3Rlcm0lM2R3aGl0ZXBhZ2VzK3B1YmxpYytyZWNvcmQlMjZ1dG1fY29udGVudCUzZCUyNm1hdGNodHlwZSUzZCUyNmFkZ3JvdXAlM2RXaGl0ZVBhZ2VzX1B1YmxpYyUyNmRldmljZSUzZCUyNnV0bV9zb3VyY2UlM2RiaW5nJTI2dXRtX21lZGl1bSUzZGNwYyUyNnV0bV9jYW1wYWlnbiUzZFBMX1BQTF9TRUFfUFJQX05BTV9GdWxsX0Y3XzE4MDAtMjEwMF9QaHJhc2VfQiUyNnV0bV90ZXJtJTNkSEFLSU0lMjUyMEpPTkVTJTI2dXRtX2NvbnRlbnQlM2QlMjZtYXRjaHR5cGUlM2RwJTI2YWRncm91cCUzZDEzMzU5MDgyNTQwNjQ0MDUlMjZkZXZpY2UlM2RjJTI2Yl9jYW1wYWlnbmlkJTNkNDMxMTQxNTg5JTI2Yl9wcm9kdWN0aWQlM2QlMjZiX3Rlcm1pZCUzZGt3ZC04MzQ5NTI2MTAwMjIzNiUzYWxvYy0xOTAlMjZiX2FkZ3JvdXBpZCUzZDEzMzU5MDgyNTQwNjQ0MDUlMjZiX2NhbXBhaWduJTNkUExfUFBMX1NFQV9QUlBfTkFNX0Z1bGxfRjdfMTgwMC0yMTAwX1BocmFzZV9CJTI2Yl9pc3Byb2R1Y3QlM2QlMjZiX3Rlcm0lM2RIQUtJTSUyNTIwSk9ORVMlMjZiX2FkZ3JvdXAlM2RGN19BRzEyJTI2Yl9hZGlkJTNkODM0OTQ1MjI5OTE0NDQlMjZtc2Nsa2lkJTNkMjA5NDZjZjExZmI3MTZlMGI3MzAwOTlhNzdhNzgwMTY&amp;rlid=20946cf11fb716e0b730099a77a78016\" id=\"zkg\" role=\"link\">Lookup Public Records</a></span></li></ul><ul><li><span class=\"b_ads1line ad_vsl\"><a class=\"ad_vslWiderClk\" h=\"ID=SERP,5606.1,Ads\" href=\"https://www.bing.com/aclk?ld=e8Frlz718qnO2JmH1yewtJKTVUCUyZsrQNZZhJ4kjsTBRmS2WqzNWNzW5NOiW4v9zwIDuVwCDVuFNW2bJZUFP7dZTbBg7Yqr20IjR6k0N9vIqQ_AnR1qRmbgG_O2ZAWVN0dncqdo6ocLLKEf9XMpCBjfNpNty80ye2ffPAbsfNCs65Wq49ZX5K9CWBQKnxUMIZfQ0VLTeyEwVJbhLJKLuHHhHipAE&amp;u=aHR0cHMlM2ElMmYlMmZ3d3cucGVvcGxlbG9va2VyLmNvbSUyZmxwJTJmNTlhZjk1JTJmMSUyZmxhbmRpbmclM2Ztc2Nsa2lkJTNkYWVlY2VkNDI3ZmYzMTk0ODFlYzY4ODI5MTdlMzU1NDIlMjZ1dG1fc291cmNlJTNkYmluZyUyNnV0bV9tZWRpdW0lM2RjcGMlMjZ1dG1fY2FtcGFpZ24lM2RQTF9QUExfU0VBX1BSUF9OQU1fRnVsbF9GN18xODAwLTIxMDBfUGhyYXNlX0IlMjZ1dG1fdGVybSUzZEhBS0lNJTI1MjBKT05FUyUyNnV0bV9jb250ZW50JTNkRjdfQUcxMiUyNnV0bV9zb3VyY2UlM2RiaW5nJTI2dXRtX21lZGl1bSUzZGNwYyUyNnV0bV9jYW1wYWlnbiUzZFBMX1BQTF9TRUFfUFJQX05BTV9GdWxsX0Y3XzE4MDAtMjEwMF9QaHJhc2VfQiUyNnV0bV90ZXJtJTNkSEFLSU0lMjUyMEpPTkVTJTI2dXRtX2NvbnRlbnQlM2QlMjZtYXRjaHR5cGUlM2RwJTI2YWRncm91cCUzZDEzMzU5MDgyNTQwNjQ0MDUlMjZkZXZpY2UlM2RjJTI2Yl9jYW1wYWlnbmlkJTNkNDMxMTQxNTg5JTI2Yl9wcm9kdWN0aWQlM2QlMjZiX3Rlcm1pZCUzZGt3ZC04MzQ5NTI2MTAwMjIzNiUzYWxvYy0xOTAlMjZiX2FkZ3JvdXBpZCUzZDEzMzU5MDgyNTQwNjQ0MDUlMjZiX2NhbXBhaWduJTNkUExfUFBMX1NFQV9QUlBfTkFNX0Z1bGxfRjdfMTgwMC0yMTAwX1BocmFzZV9CJTI2Yl9pc3Byb2R1Y3QlM2QlMjZiX3Rlcm0lM2RIQUtJTSUyNTIwSk9ORVMlMjZiX2FkZ3JvdXAlM2RGN19BRzEyJTI2Yl9hZGlkJTNkODM0OTQ1MjI5OTE0NDQlMjZtc2Nsa2lkJTNkYWVlY2VkNDI3ZmYzMTk0ODFlYzY4ODI5MTdlMzU1NDI&amp;rlid=aeeced427ff319481ec6882917e35542\" id=\"hvfjf\" role=\"link\">Unclaimed Money</a></span></li><li><span class=\"b_ads1line ad_vsl\"><a class=\"ad_vslWiderClk\" h=\"ID=SERP,5608.1,Ads\" href=\"https://www.bing.com/aclk?ld=e88-iEXoXIm8J6e0CwlWvNgDVUCUw2kZEj1O1ZOvVhnaHPGaPCYH08sM_iUIFDrdkMqSoz2NgxaHw5UdIcmZaMAqVC0UwQmWQO9cORCYKCMsfrRC9CaY9yKYr_9r4lIvppSDCSAokSKtVqG8KzYR7TEpd8vvrGEl_53zDIfU16tcIyoVsfBR6ljtHfLXqjnnfGXcfIcb0aSOUiVhs-a2UpLFgfY28&amp;u=aHR0cHMlM2ElMmYlMmZ3d3cucGVvcGxlbG9va2VyLmNvbSUyZiUzZnV0bV9zb3VyY2UlM2RiaW5nJTI2dXRtX21lZGl1bSUzZGNwYyUyNnV0bV9jYW1wYWlnbiUzZFBMX1BQTF9TRUFfUFJQX0NPTl9FeGFjdF9CJTI2dXRtX3Rlcm0lM2RiZXN0K2ZyZWUrcmV2ZXJzZStwaG9uZStsb29rdXArd2l0aCtuYW1lJTI2dXRtX2NvbnRlbnQlM2QlMjZtYXRjaHR5cGUlM2QlMjZhZGdyb3VwJTNkUGhvbmVfTmFtZV9Mb29rdXAlMjZkZXZpY2UlM2QlMjZwYWdldHlwZSUzZGNvbnRhY3QlMjZ1dG1fc291cmNlJTNkYmluZyUyNnV0bV9tZWRpdW0lM2RjcGMlMjZ1dG1fY2FtcGFpZ24lM2RQTF9QUExfU0VBX1BSUF9OQU1fRnVsbF9GN18xODAwLTIxMDBfUGhyYXNlX0IlMjZ1dG1fdGVybSUzZEhBS0lNJTI1MjBKT05FUyUyNnV0bV9jb250ZW50JTNkJTI2bWF0Y2h0eXBlJTNkcCUyNmFkZ3JvdXAlM2QxMzM1OTA4MjU0MDY0NDA1JTI2ZGV2aWNlJTNkYyUyNmJfY2FtcGFpZ25pZCUzZDQzMTE0MTU4OSUyNmJfcHJvZHVjdGlkJTNkJTI2Yl90ZXJtaWQlM2Rrd2QtODM0OTUyNjEwMDIyMzYlM2Fsb2MtMTkwJTI2Yl9hZGdyb3VwaWQlM2QxMzM1OTA4MjU0MDY0NDA1JTI2Yl9jYW1wYWlnbiUzZFBMX1BQTF9TRUFfUFJQX05BTV9GdWxsX0Y3XzE4MDAtMjEwMF9QaHJhc2VfQiUyNmJfaXNwcm9kdWN0JTNkJTI2Yl90ZXJtJTNkSEFLSU0lMjUyMEpPTkVTJTI2Yl9hZGdyb3VwJTNkRjdfQUcxMiUyNmJfYWRpZCUzZDgzNDk0NTIyOTkxNDQ0JTI2bXNjbGtpZCUzZGMzMmJkODNkNTkzZTFiYTk3Y2ZlYmQ1NjMxMmUxN2Vm&amp;rlid=c32bd83d593e1ba97cfebd56312e17ef\" id=\"ino\" role=\"link\">Name Lookup</a></span></li></ul></div></div>"
      ]
     },
     "execution_count": 7,
     "metadata": {},
     "output_type": "execute_result"
    }
   ],
   "source": [
    "# Example\n",
    "first_ad_of_queries = all_ads[0]\n",
    "bs4_operation = first_ad_of_queries.select('.sb_add')\n",
    "bs4_operation[0]"
   ]
  },
  {
   "cell_type": "markdown",
   "metadata": {},
   "source": [
    "## Analysis"
   ]
  },
  {
   "cell_type": "code",
   "execution_count": null,
   "metadata": {},
   "outputs": [],
   "source": [
    "# Your analysis here\n",
    "..."
   ]
  }
 ],
 "metadata": {
  "kernelspec": {
   "display_name": "Python 3 (ipykernel)",
   "language": "python",
   "name": "python3"
  },
  "language_info": {
   "codemirror_mode": {
    "name": "ipython",
    "version": 3
   },
   "file_extension": ".py",
   "mimetype": "text/x-python",
   "name": "python",
   "nbconvert_exporter": "python",
   "pygments_lexer": "ipython3",
   "version": "3.11.5"
  }
 },
 "nbformat": 4,
 "nbformat_minor": 4
}
