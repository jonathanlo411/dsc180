{
 "cells": [
  {
   "cell_type": "markdown",
   "id": "4a1ce29c-f4f9-4bde-838e-d9d7fa61270a",
   "metadata": {},
   "source": [
    "# Bing Pilot Notebook\n",
    "Purpose is to use Selenium to query names to test for ads via Bing.<br>\n",
    "By: Jonathan Lo<br>\n",
    "Date: 11/2/23"
   ]
  },
  {
   "cell_type": "markdown",
   "id": "a4251962-9262-4c7f-a30c-42c92f8a3143",
   "metadata": {},
   "source": [
    "## Overhead"
   ]
  },
  {
   "cell_type": "code",
   "execution_count": 213,
   "id": "b57310a7-4690-438e-aa3f-b0189b317dbc",
   "metadata": {},
   "outputs": [],
   "source": [
    "# Imports\n",
    "import re\n",
    "import logging\n",
    "import os\n",
    "\n",
    "import pandas as pd\n",
    "import numpy as np\n",
    "\n",
    "from selenium import webdriver\n",
    "from selenium.webdriver.chrome.options import Options\n",
    "from bs4 import BeautifulSoup\n",
    "from collections import defaultdict\n",
    "from tqdm.notebook import tqdm\n",
    "\n",
    "from util import *\n",
    "from matplotlib import pyplot as plt\n",
    "import scipy.stats as stats"
   ]
  },
  {
   "cell_type": "code",
   "execution_count": 214,
   "id": "7d56ad86-97d6-4e06-9404-7a48713ea105",
   "metadata": {},
   "outputs": [],
   "source": [
    "# Setup logger\n",
    "if not os.path.exists('../logs/'):\n",
    "    os.mkdir('../logs/')\n",
    "if not os.path.exists('../logs/bing-pilot.log'):\n",
    "    open('../logs/bing-pilot.log', 'a').close()\n",
    "\n",
    "logging.basicConfig(\n",
    "    filename='../logs/bing-pilot.log',\n",
    "    filemode='w',\n",
    "    format='%(asctime)s %(message)s',\n",
    "    datefmt='%m/%d/%Y %I:%M:%S %p',\n",
    "    level=logging.DEBUG\n",
    ")"
   ]
  },
  {
   "cell_type": "code",
   "execution_count": 215,
   "id": "1510787f-c428-4d70-924c-9d866dfad6e0",
   "metadata": {},
   "outputs": [],
   "source": [
    "# Setup Webdriver Options\n",
    "options = Options()\n",
    "\n",
    "options.add_argument(\"--disable-notifications\")\n",
    "options.add_argument(\"--incognito\")\n",
    "options.add_experimental_option(\"prefs\", {\"plugins.plugins_list\": [{\"enabled\": False, \"name\": \"Chrome PDF Viewer\"}]})\n",
    "options.add_experimental_option(\"excludeSwitches\", [\"enable-automation\"])\n",
    "options.add_experimental_option('useAutomationExtension', False)\n",
    "options.add_argument(\"--start-maximized\")\n",
    "options.add_argument(\"--disable-blink-features\")\n",
    "options.add_argument('--disable-extensions')\n",
    "options.add_argument(\"--no-sandbox\")\n",
    "\n",
    "options.binary_location = \"/usr/local/bin/webdriver\""
   ]
  },
  {
   "cell_type": "code",
   "execution_count": 216,
   "id": "dad9b1f8-ac09-496e-a2f0-ab614769254e",
   "metadata": {},
   "outputs": [
    {
     "name": "stdout",
     "output_type": "stream",
     "text": [
      "Internet connected:  True\n"
     ]
    }
   ],
   "source": [
    "# Setup Selenium\n",
    "print(\"Internet connected: \", internet())\n",
    "driver = webdriver.Chrome(options=options)"
   ]
  },
  {
   "cell_type": "markdown",
   "id": "bf6671cd-92d6-4443-9d5e-ffce415a40b5",
   "metadata": {},
   "source": [
    "## Collection"
   ]
  },
  {
   "cell_type": "markdown",
   "id": "c7251b3e-50ac-4720-9f76-03955545c112",
   "metadata": {},
   "source": [
    "### Generating Names"
   ]
  },
  {
   "cell_type": "code",
   "execution_count": 60,
   "id": "2f870e98",
   "metadata": {},
   "outputs": [
    {
     "data": {
      "text/plain": [
       "Ethnicity\n",
       "HISPANIC                      16930\n",
       "WHITE NON HISPANIC            16127\n",
       "BLACK NON HISPANIC             8335\n",
       "ASIAN AND PACIFIC ISLANDER     7830\n",
       "WHITE NON HISP                 4142\n",
       "ASIAN AND PACI                 2125\n",
       "BLACK NON HISP                 2093\n",
       "Name: count, dtype: int64"
      ]
     },
     "execution_count": 60,
     "metadata": {},
     "output_type": "execute_result"
    }
   ],
   "source": [
    "#Load in dataset of NYC's most popular baby names by gender and race\n",
    "\n",
    "first_name_path = \"./../data/Popular_Baby_Names.csv\"\n",
    "name_df = pd.read_csv(first_name_path)\n",
    "name_df.Ethnicity.value_counts(dropna=False)"
   ]
  },
  {
   "cell_type": "code",
   "execution_count": 61,
   "id": "0f6dcc3a",
   "metadata": {},
   "outputs": [],
   "source": [
    "#somewhat arbitrary filter for names occuring more than 25 times\n",
    "\n",
    "name_df = name_df[name_df['Count'] > 25]"
   ]
  },
  {
   "cell_type": "code",
   "execution_count": 62,
   "id": "40154907",
   "metadata": {},
   "outputs": [],
   "source": [
    "#filter out black and white names only\n",
    "\n",
    "white_names = name_df[name_df.Ethnicity.str.contains('WHITE')]\n",
    "black_names = name_df[name_df.Ethnicity.str.contains('BLACK')]"
   ]
  },
  {
   "cell_type": "code",
   "execution_count": 63,
   "id": "943048b0",
   "metadata": {},
   "outputs": [],
   "source": [
    "#group by gender\n",
    "\n",
    "bm_names = black_names[black_names.Gender == 'MALE']\n",
    "wm_names = white_names[white_names.Gender == 'MALE']\n",
    "bf_names = black_names[black_names.Gender == 'FEMALE']\n",
    "wf_names = white_names[white_names.Gender == 'FEMALE']"
   ]
  },
  {
   "cell_type": "code",
   "execution_count": 64,
   "id": "f92b2c83",
   "metadata": {},
   "outputs": [],
   "source": [
    "#sort each one by popularity and get only unique values (same values for different years in dataset)\n",
    "\n",
    "bm_names_sorted = bm_names.sort_values(by='Count', ascending=False)\n",
    "wm_names_sorted = wm_names.sort_values(by='Count', ascending=False)\n",
    "bf_names_sorted = bf_names.sort_values(by='Count', ascending=False)\n",
    "wf_names_sorted = wf_names.sort_values(by='Count', ascending=False)\n",
    "unique_bm = bm_names_sorted[\"Child's First Name\"].str.lower().str.capitalize().unique()\n",
    "unique_wm = wm_names_sorted[\"Child's First Name\"].str.lower().str.capitalize().unique()\n",
    "unique_bf = bf_names_sorted[\"Child's First Name\"].str.lower().str.capitalize().unique()\n",
    "unique_wf = wf_names_sorted[\"Child's First Name\"].str.lower().str.capitalize().unique()"
   ]
  },
  {
   "cell_type": "code",
   "execution_count": 65,
   "id": "910261f3",
   "metadata": {},
   "outputs": [],
   "source": [
    "#take out the intersection of each of the lists so that end lists will have only names unique\n",
    "#to that gender + race combo\n",
    "\n",
    "arrays = [unique_bm, unique_wm, unique_bf, unique_wf]\n",
    "duplicates = set()\n",
    "for i in range(len(arrays)):\n",
    "    for j in range(i+1, len(arrays)):\n",
    "        duplicates.update(set(arrays[i]).intersection(arrays[j]))\n",
    "        unique_arrays = []\n",
    "for array in arrays:\n",
    "    unique_array = [item for item in array if item not in duplicates]\n",
    "    unique_arrays.append(unique_array)\n",
    "bm = unique_arrays[0]\n",
    "wm = unique_arrays[1]\n",
    "bf = unique_arrays[2]\n",
    "wf = unique_arrays[3]"
   ]
  },
  {
   "cell_type": "code",
   "execution_count": 66,
   "id": "12973487",
   "metadata": {},
   "outputs": [],
   "source": [
    "#merge new lists with old pilot-names dataset from original Sweeney study\n",
    "\n",
    "f = open(\"./../data/pilot-names.json\")\n",
    "name_data = json.load(f)\n",
    "wf1 = name_data['white']['first']['female']\n",
    "bf1 = name_data['black']['first']['female']\n",
    "wm1 = name_data['white']['first']['male']\n",
    "bm1 = name_data['black']['first']['male']\n",
    "wf_fn = list(set(wf1 + wf))\n",
    "bf_fn = list(set(bf1 + bf))\n",
    "wm_fn = list(set(wm1 + wm))\n",
    "bm_fn = list(set(bm1 + bm))\n",
    "min_fn = min(len(wf_fn), len(bf_fn), len(wm_fn), len(bm_fn))"
   ]
  },
  {
   "cell_type": "code",
   "execution_count": 67,
   "id": "f79c15b1",
   "metadata": {},
   "outputs": [
    {
     "name": "stdout",
     "output_type": "stream",
     "text": [
      "bm # of unique first names: 59\n",
      "wm # of unique first names: 168\n",
      "bf # of unique first names: 68\n",
      "wf # of unique first names: 178\n"
     ]
    }
   ],
   "source": [
    "print(f'bm # of unique first names: {len(bm_fn)}\\nwm # of unique first names: {len(wm_fn)}\\nbf # of unique first names: {len(bf_fn)}\\nwf # of unique first names: {len(wf_fn)}')"
   ]
  },
  {
   "cell_type": "code",
   "execution_count": 68,
   "id": "b7546827",
   "metadata": {},
   "outputs": [],
   "source": [
    "#optional step that makes the amount of names equal for each group, cutting off least popular names\n",
    "\n",
    "wf_final = wf_fn[:min_fn]\n",
    "wm_final = wm_fn[:min_fn]\n",
    "bf_final = bf_fn[:min_fn]\n",
    "bm_final = bm_fn[:min_fn]"
   ]
  },
  {
   "cell_type": "code",
   "execution_count": 69,
   "id": "e2a76b73",
   "metadata": {},
   "outputs": [],
   "source": [
    "#messy, manual way of putting data back into the format for generate_names function\n",
    "\n",
    "white_last = [\n",
    "            \"Smith\",\n",
    "            \"Johnson\",\n",
    "            \"Miller\",\n",
    "            \"Brown\",\n",
    "            \"Jones\",\n",
    "            \"Williams\",\n",
    "            \"Davis\",\n",
    "            \"Anderson\",\n",
    "            \"Wilson\",\n",
    "            \"Martin\",\n",
    "            \"Taylor\"\n",
    "        ]\n",
    "black_last = [\n",
    "            \"Williams\",\n",
    "            \"Johnson\",\n",
    "            \"Smith\",\n",
    "            \"Jones\",\n",
    "            \"Brown\",\n",
    "            \"Jackson\",\n",
    "            \"Davis\",\n",
    "            \"Thomas\",\n",
    "            \"Harris\",\n",
    "            \"Robinson\",\n",
    "            \"Taylor\"\n",
    "        ]\n",
    "name_dict = {}\n",
    "name_dict['white'] = {}\n",
    "name_dict['white']['first'] = {}\n",
    "name_dict['white']['first']['female'] = wf_final\n",
    "name_dict['white']['first']['male'] = wm_final\n",
    "name_dict['black'] = {}\n",
    "name_dict['black']['first'] = {}\n",
    "name_dict['black']['first']['female'] = bf_final\n",
    "name_dict['black']['first']['male'] = bm_final\n",
    "name_dict['black']['last'] = black_last\n",
    "name_dict['white']['last'] = white_last"
   ]
  },
  {
   "cell_type": "code",
   "execution_count": 70,
   "id": "4523159a",
   "metadata": {},
   "outputs": [],
   "source": [
    "def generate_names(race, sex):\n",
    "    names = list()\n",
    "    for first_name in name_dict[race]['first'][sex]:\n",
    "        for last_name in name_dict[race]['last']:\n",
    "            names.append(f\"{first_name} {last_name}\")\n",
    "    return names"
   ]
  },
  {
   "cell_type": "code",
   "execution_count": 71,
   "id": "20a77f33",
   "metadata": {},
   "outputs": [],
   "source": [
    "# Init names\n",
    "white_female_names = generate_names('white', 'female')\n",
    "white_male_names = generate_names('white', 'male')\n",
    "black_female_names = generate_names('black', 'female')\n",
    "black_male_names = generate_names('black', 'male')\n",
    "all_names = {\n",
    "    \"wf\": white_female_names,\n",
    "    \"wm\": white_male_names,\n",
    "    \"bf\": black_female_names,\n",
    "    \"bm\": black_male_names\n",
    "}"
   ]
  },
  {
   "cell_type": "code",
   "execution_count": 72,
   "id": "6856e0a9",
   "metadata": {},
   "outputs": [
    {
     "data": {
      "text/plain": [
       "649"
      ]
     },
     "execution_count": 72,
     "metadata": {},
     "output_type": "execute_result"
    }
   ],
   "source": [
    "len(all_names['wf'])"
   ]
  },
  {
   "cell_type": "markdown",
   "id": "71a8a155-2cfb-44a5-8b85-b6c39a6c0412",
   "metadata": {},
   "source": [
    "### Querying"
   ]
  },
  {
   "cell_type": "code",
   "execution_count": 73,
   "id": "1603e899-2058-4184-8959-06bb9fa443e7",
   "metadata": {},
   "outputs": [],
   "source": [
    "def parse_bing_ads(raw_html, query):\n",
    "    \"\"\" Parses the doman.TLD and the title, URL from the HTML\n",
    "    \"\"\"\n",
    "    compiled = defaultdict(list)\n",
    "    pattern = r'(?:http[s]?://)?(?:www\\.)?([\\w-]+\\.[\\w-]+)' # Matches the domain and TLD of a URL\n",
    "    ads = BeautifulSoup(raw_html).select('.sb_add')\n",
    "    for ad in ads:\n",
    "        try:\n",
    "            title = ad.select_one('h2').text\n",
    "            link = ad.select_one('.b_adurl').text\n",
    "            match = re.search(pattern, link)\n",
    "            domain = match.group(1) if match else 'ERROR'\n",
    "            compiled[domain].append((title, link))\n",
    "        except Exception as e:\n",
    "            logging.debug(f'Failed to parse ad HTML on query: {query}')\n",
    "    return compiled"
   ]
  },
  {
   "cell_type": "code",
   "execution_count": 74,
   "id": "2f8d0a4b-d1fc-47a7-aa40-b1425ed49235",
   "metadata": {},
   "outputs": [
    {
     "data": {
      "application/vnd.jupyter.widget-view+json": {
       "model_id": "4db70f0c840a4c129c91307f659356e1",
       "version_major": 2,
       "version_minor": 0
      },
      "text/plain": [
       "  0%|          | 0/4 [00:00<?, ?it/s]"
      ]
     },
     "metadata": {},
     "output_type": "display_data"
    },
    {
     "data": {
      "application/vnd.jupyter.widget-view+json": {
       "model_id": "3d88062f88ee4753ba9c76546d34f3bd",
       "version_major": 2,
       "version_minor": 0
      },
      "text/plain": [
       "  0%|          | 0/649 [00:00<?, ?it/s]"
      ]
     },
     "metadata": {},
     "output_type": "display_data"
    },
    {
     "data": {
      "application/vnd.jupyter.widget-view+json": {
       "model_id": "6ace7d01ae8845fa842e7f83cf8be40e",
       "version_major": 2,
       "version_minor": 0
      },
      "text/plain": [
       "  0%|          | 0/649 [00:00<?, ?it/s]"
      ]
     },
     "metadata": {},
     "output_type": "display_data"
    },
    {
     "data": {
      "application/vnd.jupyter.widget-view+json": {
       "model_id": "edaeaab7c228486e96a069890ca73c3f",
       "version_major": 2,
       "version_minor": 0
      },
      "text/plain": [
       "  0%|          | 0/649 [00:00<?, ?it/s]"
      ]
     },
     "metadata": {},
     "output_type": "display_data"
    },
    {
     "data": {
      "application/vnd.jupyter.widget-view+json": {
       "model_id": "f54b1a4f42f94245ab43ae841c422f69",
       "version_major": 2,
       "version_minor": 0
      },
      "text/plain": [
       "  0%|          | 0/649 [00:00<?, ?it/s]"
      ]
     },
     "metadata": {},
     "output_type": "display_data"
    }
   ],
   "source": [
    "# Querying all names and obtaining the ads on the page (est. 4min)\n",
    "all_ads = [['Name', 'Group', 'Ad Domain', 'Ad Title', 'Ad Link']]\n",
    "for group, names in tqdm(all_names.items()):\n",
    "    for name in tqdm(names):\n",
    "        query = f\"{name} public records\"\n",
    "        raw_html = bing_search(query, driver)\n",
    "        parsed = parse_bing_ads(raw_html, query)\n",
    "        for domain, ad_items in parsed.items():\n",
    "            for ad_opts in ad_items:\n",
    "                all_ads.append([name, group, domain, ad_opts[0], ad_opts[1]])"
   ]
  },
  {
   "cell_type": "code",
   "execution_count": 82,
   "id": "064a6dd8",
   "metadata": {},
   "outputs": [
    {
     "data": {
      "text/plain": [
       "6983"
      ]
     },
     "execution_count": 82,
     "metadata": {},
     "output_type": "execute_result"
    }
   ],
   "source": [
    "len(all_ads)"
   ]
  },
  {
   "cell_type": "markdown",
   "id": "8e012796-1847-495e-83a0-25e4db9fc5c6",
   "metadata": {},
   "source": [
    "## Analysis"
   ]
  },
  {
   "cell_type": "markdown",
   "id": "6dcf31c8-0391-4b79-a4c6-59c590bb709f",
   "metadata": {},
   "source": [
    "### Labelling"
   ]
  },
  {
   "cell_type": "code",
   "execution_count": 83,
   "id": "d9195077-b0c5-4702-9673-7f0a3655940a",
   "metadata": {},
   "outputs": [],
   "source": [
    "# Init DF\n",
    "df = pd.DataFrame(all_ads[1:], columns=all_ads[0])"
   ]
  },
  {
   "cell_type": "code",
   "execution_count": 84,
   "id": "8019a306-462b-4a15-b9e0-41fb1ddab3f8",
   "metadata": {},
   "outputs": [],
   "source": [
    "# Label\n",
    "mapping = {'wf': ('White', 'Female'), 'wm': ('White', 'Male'), 'bf': ('Black', 'Female'), 'bm': ('Black', 'Male')}\n",
    "df['Race'] = df['Group'].map(mapping).str[0]\n",
    "df['Sex'] = df['Group'].map(mapping).str[1]\n",
    "df['Criminal Ad'] = df['Ad Title'].str.lower().str.contains('criminal')\n",
    "\n",
    "# For more search term options\n",
    "df['Criminal Ad'] = df['Ad Title'].str.lower().str.contains('criminal|jail|prison|arrest')"
   ]
  },
  {
   "cell_type": "code",
   "execution_count": 104,
   "id": "01f886d7-868b-47a2-8901-b28c173bae76",
   "metadata": {},
   "outputs": [
    {
     "data": {
      "text/html": [
       "<div>\n",
       "<style scoped>\n",
       "    .dataframe tbody tr th:only-of-type {\n",
       "        vertical-align: middle;\n",
       "    }\n",
       "\n",
       "    .dataframe tbody tr th {\n",
       "        vertical-align: top;\n",
       "    }\n",
       "\n",
       "    .dataframe thead th {\n",
       "        text-align: right;\n",
       "    }\n",
       "</style>\n",
       "<table border=\"1\" class=\"dataframe\">\n",
       "  <thead>\n",
       "    <tr style=\"text-align: right;\">\n",
       "      <th></th>\n",
       "      <th>Name</th>\n",
       "      <th>Group</th>\n",
       "      <th>Ad Domain</th>\n",
       "      <th>Ad Title</th>\n",
       "      <th>Ad Link</th>\n",
       "      <th>Race</th>\n",
       "      <th>Sex</th>\n",
       "      <th>Criminal Ad</th>\n",
       "    </tr>\n",
       "  </thead>\n",
       "  <tbody>\n",
       "    <tr>\n",
       "      <th>0</th>\n",
       "      <td>Dina Smith</td>\n",
       "      <td>wf</td>\n",
       "      <td>publicrecords.info</td>\n",
       "      <td>Search Public Records | Public Records For State</td>\n",
       "      <td>https://www.publicrecords.info/Birth/Records</td>\n",
       "      <td>White</td>\n",
       "      <td>Female</td>\n",
       "      <td>False</td>\n",
       "    </tr>\n",
       "    <tr>\n",
       "      <th>1</th>\n",
       "      <td>Dina Smith</td>\n",
       "      <td>wf</td>\n",
       "      <td>publicrecords.info</td>\n",
       "      <td>Search Public Records | Public Records For State</td>\n",
       "      <td>https://www.publicrecords.info/Birth/Records</td>\n",
       "      <td>White</td>\n",
       "      <td>Female</td>\n",
       "      <td>False</td>\n",
       "    </tr>\n",
       "    <tr>\n",
       "      <th>2</th>\n",
       "      <td>Dina Smith</td>\n",
       "      <td>wf</td>\n",
       "      <td>ancestry.com</td>\n",
       "      <td>Search Billions of Records | Find Your Ancesto...</td>\n",
       "      <td>https://www.ancestry.com/ancestry</td>\n",
       "      <td>White</td>\n",
       "      <td>Female</td>\n",
       "      <td>False</td>\n",
       "    </tr>\n",
       "    <tr>\n",
       "      <th>3</th>\n",
       "      <td>Dina Smith</td>\n",
       "      <td>wf</td>\n",
       "      <td>ancestry.com</td>\n",
       "      <td>Search Billions of Records | Find Your Ancesto...</td>\n",
       "      <td>https://www.ancestry.com/ancestry</td>\n",
       "      <td>White</td>\n",
       "      <td>Female</td>\n",
       "      <td>False</td>\n",
       "    </tr>\n",
       "    <tr>\n",
       "      <th>4</th>\n",
       "      <td>Dina Smith</td>\n",
       "      <td>wf</td>\n",
       "      <td>spokeo.com</td>\n",
       "      <td>Search Public Records - Free | Lookup Public R...</td>\n",
       "      <td>https://www.spokeo.com/Public/Records</td>\n",
       "      <td>White</td>\n",
       "      <td>Female</td>\n",
       "      <td>False</td>\n",
       "    </tr>\n",
       "  </tbody>\n",
       "</table>\n",
       "</div>"
      ],
      "text/plain": [
       "         Name Group           Ad Domain   \n",
       "0  Dina Smith    wf  publicrecords.info  \\\n",
       "1  Dina Smith    wf  publicrecords.info   \n",
       "2  Dina Smith    wf        ancestry.com   \n",
       "3  Dina Smith    wf        ancestry.com   \n",
       "4  Dina Smith    wf          spokeo.com   \n",
       "\n",
       "                                            Ad Title   \n",
       "0   Search Public Records | Public Records For State  \\\n",
       "1   Search Public Records | Public Records For State   \n",
       "2  Search Billions of Records | Find Your Ancesto...   \n",
       "3  Search Billions of Records | Find Your Ancesto...   \n",
       "4  Search Public Records - Free | Lookup Public R...   \n",
       "\n",
       "                                        Ad Link   Race     Sex  Criminal Ad  \n",
       "0  https://www.publicrecords.info/Birth/Records  White  Female        False  \n",
       "1  https://www.publicrecords.info/Birth/Records  White  Female        False  \n",
       "2             https://www.ancestry.com/ancestry  White  Female        False  \n",
       "3             https://www.ancestry.com/ancestry  White  Female        False  \n",
       "4         https://www.spokeo.com/Public/Records  White  Female        False  "
      ]
     },
     "execution_count": 104,
     "metadata": {},
     "output_type": "execute_result"
    }
   ],
   "source": [
    "# Showing dataframe\n",
    "df.head()"
   ]
  },
  {
   "cell_type": "code",
   "execution_count": 78,
   "id": "7d6801db",
   "metadata": {},
   "outputs": [],
   "source": [
    "breakdown_regular = df.groupby('Group')['Criminal Ad'].count()"
   ]
  },
  {
   "cell_type": "code",
   "execution_count": 79,
   "id": "8576c11c",
   "metadata": {},
   "outputs": [],
   "source": [
    "only_criminal = df[df['Criminal Ad']]"
   ]
  },
  {
   "cell_type": "code",
   "execution_count": 80,
   "id": "f2a80b58",
   "metadata": {},
   "outputs": [],
   "source": [
    "breakdown_criminal = only_criminal.groupby('Group')['Criminal Ad'].count()"
   ]
  },
  {
   "cell_type": "code",
   "execution_count": 115,
   "id": "3e548a43",
   "metadata": {},
   "outputs": [
    {
     "data": {
      "text/plain": [
       "[[26, 1875], [36, 1800], [36, 1694], [46, 1613]]"
      ]
     },
     "execution_count": 115,
     "metadata": {},
     "output_type": "execute_result"
    }
   ],
   "source": [
    "#prep for racial + gender group statistical test\n",
    "\n",
    "cont_table = [[breakdown_criminal['bf'], breakdown_regular['bf']], \n",
    "              [breakdown_criminal['bm'], breakdown_regular['bm']], \n",
    "              [breakdown_criminal['wf'], breakdown_regular['wf']], \n",
    "              [breakdown_criminal['wm'], breakdown_regular['wm']]]\n",
    "cont_table"
   ]
  },
  {
   "cell_type": "code",
   "execution_count": 157,
   "id": "768f0e2b",
   "metadata": {},
   "outputs": [],
   "source": [
    "#prep for racial group statistical test\n",
    "\n",
    "obs = [df.groupby('Race')['Criminal Ad'].count()['Black'], df.groupby('Race')['Criminal Ad'].count()['White']]\n",
    "successes = [only_criminal.groupby('Race')['Criminal Ad'].count()['Black'], only_criminal.groupby('Race')['Criminal Ad'].count()['White']]"
   ]
  },
  {
   "cell_type": "code",
   "execution_count": 191,
   "id": "0466bdf5",
   "metadata": {},
   "outputs": [],
   "source": [
    "#prep for gender group statistical test\n",
    "\n",
    "obs_gender = [df.groupby('Sex')['Criminal Ad'].count()['Female'], df.groupby('Sex')['Criminal Ad'].count()['Male']]\n",
    "successes_gender = [only_criminal.groupby('Sex')['Criminal Ad'].count()['Female'], only_criminal.groupby('Sex')['Criminal Ad'].count()['Male']]"
   ]
  },
  {
   "cell_type": "code",
   "execution_count": 164,
   "id": "075b958b",
   "metadata": {},
   "outputs": [
    {
     "name": "stdout",
     "output_type": "stream",
     "text": [
      "Grouped by race and gender\n",
      "With a p-value of 0.031, we reject the null hypothesis. There is statistically significant difference between the proportions.\n"
     ]
    }
   ],
   "source": [
    "#Chi-Square Test\n",
    "#To compare the rates of criminal ads and regular ads shown to each gender + racial group.\n",
    "\n",
    "\n",
    "#Null Hypothesis: All four proportions come from the same distribution (i.e. they are equal)\n",
    "#Alternative Hypothesis: All four proportions are not the same.\n",
    "\n",
    "\n",
    "chi2, p, dof, expected = stats.chi2_contingency(cont_table)\n",
    "if p < 0.05:\n",
    "    print(f\"Grouped by race and gender:\\nWith a p-value of {round(p, 3)}, we reject the null hypothesis. There is statistically significant difference between the proportions.\")\n",
    "else:\n",
    "    print(f\"Grouped by race and gender:\\nWith a p-value of {round(p, 3)}, we fail to reject the null hypothesis. There is no statistically significant difference in the proportions.\")"
   ]
  },
  {
   "cell_type": "code",
   "execution_count": 188,
   "id": "2a71f4bc",
   "metadata": {},
   "outputs": [],
   "source": [
    "def two_prop_z_test(s, o):\n",
    "    p1 = s[0] / o[0]\n",
    "    p2 = s[1] / o[1]\n",
    "    pooled_p = np.sum(s) / np.sum(o)\n",
    "    se = np.sqrt(pooled_p * (1 - pooled_p) * ((1 / o[0]) + (1 / o[1])))\n",
    "    z = (p1 - p2) / se\n",
    "    p_val = 2 * (1 - stats.norm.cdf(np.abs(z)))\n",
    "    return p_val"
   ]
  },
  {
   "cell_type": "code",
   "execution_count": 189,
   "id": "02229ee2",
   "metadata": {
    "scrolled": true
   },
   "outputs": [
    {
     "name": "stdout",
     "output_type": "stream",
     "text": [
      "Grouped by race:\n",
      "With a p-value of 0.02, we reject the null hypothesis. There is a statistically significant difference between the two proportions.\n"
     ]
    }
   ],
   "source": [
    "#Two-Proportion Z Test\n",
    "#To compare just racial groups criminal ads vs. regular ads\n",
    "\n",
    "\n",
    "#Null Hypothesis: The two proportions are the same\n",
    "#Alternative Hypothesis: The two proportions are different\n",
    "\n",
    "\n",
    "p_val = two_prop_z_test(successes, obs)\n",
    "if p_val < 0.05:\n",
    "    print(f\"Grouped by race:\\nWith a p-value of {round(p_val, 3)}, we reject the null hypothesis. There is a statistically significant difference between the two proportions.\")\n",
    "else:\n",
    "    print(f\"Grouped by race:\\nWith a p-value of {round(p_val, 3)}, we fail to reject the null hypothesis. There is no statistically significant difference between the two proportions.\")"
   ]
  },
  {
   "cell_type": "code",
   "execution_count": 192,
   "id": "500fbee5",
   "metadata": {
    "scrolled": true
   },
   "outputs": [
    {
     "name": "stdout",
     "output_type": "stream",
     "text": [
      "Grouped by gender:\n",
      "With a p-value of 0.051, we fail to reject the null hypothesis. There is no statistically significant difference between the two proportions.\n"
     ]
    }
   ],
   "source": [
    "#Two-Proportion Z Test\n",
    "#To compare just gender groups criminal ads vs. regular ads\n",
    "\n",
    "\n",
    "#Null Hypothesis: The two proportions are the same\n",
    "#Alternative Hypothesis: The two proportions are different\n",
    "\n",
    "\n",
    "p_val2 = two_prop_z_test(successes_gender, obs_gender)\n",
    "if p_val2 < 0.05:\n",
    "    print(f\"Grouped by gender:\\nWith a p-value of {round(p_val2, 3)}, we reject the null hypothesis. There is a statistically significant difference between the two proportions.\")\n",
    "else:\n",
    "    print(f\"Grouped by gender:\\nWith a p-value of {round(p_val2, 3)}, we fail to reject the null hypothesis. There is no statistically significant difference between the two proportions.\")"
   ]
  },
  {
   "cell_type": "code",
   "execution_count": 212,
   "id": "e5eae6d3",
   "metadata": {},
   "outputs": [
    {
     "name": "stdout",
     "output_type": "stream",
     "text": [
      "Ad Domain: publicrecords.info\n",
      "1632 ads from this domain\n",
      "    p-val for difference in just racial grouping: 0.5336 -- fail to reject\n",
      "    p-val for difference in just gender grouping: 0.5252 -- fail to reject\n",
      "    p-val for difference in combined gender + racial grouping: 0.4212 -- fail to reject\n",
      "\n",
      "Ad Domain: spokeo.com\n",
      "1457 ads from this domain\n",
      "    p-val for difference in just racial grouping: 0.0 -- reject\n",
      "    p-val for difference in just gender grouping: 0.1017 -- fail to reject\n",
      "    p-val for difference in combined gender + racial grouping: 0.0 -- reject\n",
      "\n",
      "Ad Domain: recordsquarry.com\n",
      "649 ads from this domain\n",
      "    p-val for difference in just racial grouping: 0.0003 -- reject\n",
      "    p-val for difference in just gender grouping: 0.0001 -- reject\n",
      "    p-val for difference in combined gender + racial grouping: 0.0 -- reject\n",
      "\n"
     ]
    }
   ],
   "source": [
    "#  same hypothesis tests for the top 3 ad domains represented in the dataset.\n",
    "\n",
    "#  A rejection of the null hypothesis means that this ad domain is over/under representing a gender, racial,\n",
    "#  or combined gender + racial group based on what was seen in the original dataset.\n",
    "\n",
    "#  For example, if we reject the null hypothesis for the domain spokeo.com and the racial grouping, this means\n",
    "#  spokeo.com has a statistically significantly higher proportion of ads for one racial group (black or white) \n",
    "#  than the proportion that was seen in the original dataset.\n",
    "\n",
    "#  A fail to reject result means that no significant difference was detected between the distribution of ads that\n",
    "#  just appeared from this domain and the distribution that appeared in the original dataset.\n",
    "\n",
    "\n",
    "\n",
    "for i in df['Ad Domain'].value_counts().index[:3]:\n",
    "    print(f\"Ad Domain: {i}\")\n",
    "    \n",
    "    #prep for both two-prop z tests\n",
    "    df_filt = df[df['Ad Domain'] == i]\n",
    "    print(f\"{len(df_filt)} ads from this domain\")\n",
    "    racial_obs = [df.groupby('Race')['Criminal Ad'].count()['Black'], df.groupby('Race')['Criminal Ad'].count()['White']]\n",
    "    racial_successes = [df_filt.groupby('Race')['Criminal Ad'].count()['Black'], df_filt.groupby('Race')['Criminal Ad'].count()['White']]\n",
    "    gender_obs = [df.groupby('Sex')['Criminal Ad'].count()['Female'], df.groupby('Sex')['Criminal Ad'].count()['Male']]\n",
    "    gender_successes = [df_filt.groupby('Sex')['Criminal Ad'].count()['Female'], df_filt.groupby('Sex')['Criminal Ad'].count()['Male']]\n",
    "    \n",
    "    #prep for chi-square test\n",
    "    breakdown_regular = df.groupby('Group')['Criminal Ad'].count()\n",
    "    breakdown_domain = df_filt.groupby('Group')['Criminal Ad'].count()\n",
    "    cont_table = [[breakdown_domain['bf'], breakdown_regular['bf']], \n",
    "              [breakdown_domain['bm'], breakdown_regular['bm']], \n",
    "              [breakdown_domain['wf'], breakdown_regular['wf']], \n",
    "              [breakdown_domain['wm'], breakdown_regular['wm']]]\n",
    "    \n",
    "    #both two-prop z tests for difference between just gender and just racial groups\n",
    "    racial_p = two_prop_z_test(racial_successes, racial_obs)\n",
    "    if racial_p < 0.05:\n",
    "        print(f\"    p-val for difference in just racial grouping: {round(racial_p, 4)} -- reject\")\n",
    "    else:\n",
    "        print(f\"    p-val for difference in just racial grouping: {round(racial_p, 4)} -- fail to reject\")\n",
    "    gender_p = two_prop_z_test(gender_successes, gender_obs)\n",
    "    if gender_p < 0.05:\n",
    "        print(f\"    p-val for difference in just gender grouping: {round(gender_p, 4)} -- reject\")\n",
    "    else:\n",
    "        print(f\"    p-val for difference in just gender grouping: {round(gender_p, 4)} -- fail to reject\")\n",
    "        \n",
    "    #chi-square test for combined racial + gender groupings\n",
    "    chi2, p, dof, expected = stats.chi2_contingency(cont_table)\n",
    "    if p < 0.05:\n",
    "        print(f\"    p-val for difference in combined gender + racial grouping: {round(p, 4)} -- reject\\n\")\n",
    "    else:\n",
    "        print(f\"    p-val for difference in combined gender + racial grouping: {round(p, 4)} -- fail to reject\\n\")"
   ]
  },
  {
   "cell_type": "markdown",
   "id": "c0156d09-c59c-421e-8f80-be7d7f71b8af",
   "metadata": {},
   "source": [
    "### Breakdown"
   ]
  },
  {
   "cell_type": "code",
   "execution_count": 97,
   "id": "7a488416",
   "metadata": {},
   "outputs": [
    {
     "data": {
      "text/plain": [
       "Race\n",
       "Black    3675\n",
       "White    3307\n",
       "Name: Criminal Ad, dtype: int64"
      ]
     },
     "execution_count": 97,
     "metadata": {},
     "output_type": "execute_result"
    }
   ],
   "source": [
    "df.groupby('Race')['Criminal Ad'].count()"
   ]
  },
  {
   "cell_type": "code",
   "execution_count": 98,
   "id": "bc795614",
   "metadata": {},
   "outputs": [
    {
     "data": {
      "text/plain": [
       "Group\n",
       "bf    1875\n",
       "bm    1800\n",
       "wf    1694\n",
       "wm    1613\n",
       "Name: Criminal Ad, dtype: int64"
      ]
     },
     "execution_count": 98,
     "metadata": {},
     "output_type": "execute_result"
    }
   ],
   "source": [
    "df.groupby('Group')['Criminal Ad'].count()"
   ]
  },
  {
   "cell_type": "code",
   "execution_count": 100,
   "id": "92edaedd-81c4-4552-8c46-9b7715b59bf4",
   "metadata": {
    "scrolled": true
   },
   "outputs": [
    {
     "data": {
      "text/html": [
       "<div>\n",
       "<style scoped>\n",
       "    .dataframe tbody tr th:only-of-type {\n",
       "        vertical-align: middle;\n",
       "    }\n",
       "\n",
       "    .dataframe tbody tr th {\n",
       "        vertical-align: top;\n",
       "    }\n",
       "\n",
       "    .dataframe thead th {\n",
       "        text-align: right;\n",
       "    }\n",
       "</style>\n",
       "<table border=\"1\" class=\"dataframe\">\n",
       "  <thead>\n",
       "    <tr style=\"text-align: right;\">\n",
       "      <th></th>\n",
       "      <th>Criminal Ad</th>\n",
       "    </tr>\n",
       "    <tr>\n",
       "      <th>Race</th>\n",
       "      <th></th>\n",
       "    </tr>\n",
       "  </thead>\n",
       "  <tbody>\n",
       "    <tr>\n",
       "      <th>Black</th>\n",
       "      <td>62</td>\n",
       "    </tr>\n",
       "    <tr>\n",
       "      <th>White</th>\n",
       "      <td>82</td>\n",
       "    </tr>\n",
       "  </tbody>\n",
       "</table>\n",
       "</div>"
      ],
      "text/plain": [
       "       Criminal Ad\n",
       "Race              \n",
       "Black           62\n",
       "White           82"
      ]
     },
     "metadata": {},
     "output_type": "display_data"
    },
    {
     "data": {
      "text/html": [
       "<div>\n",
       "<style scoped>\n",
       "    .dataframe tbody tr th:only-of-type {\n",
       "        vertical-align: middle;\n",
       "    }\n",
       "\n",
       "    .dataframe tbody tr th {\n",
       "        vertical-align: top;\n",
       "    }\n",
       "\n",
       "    .dataframe thead th {\n",
       "        text-align: right;\n",
       "    }\n",
       "</style>\n",
       "<table border=\"1\" class=\"dataframe\">\n",
       "  <thead>\n",
       "    <tr style=\"text-align: right;\">\n",
       "      <th></th>\n",
       "      <th></th>\n",
       "      <th>Criminal Ad</th>\n",
       "    </tr>\n",
       "    <tr>\n",
       "      <th>Race</th>\n",
       "      <th>Sex</th>\n",
       "      <th></th>\n",
       "    </tr>\n",
       "  </thead>\n",
       "  <tbody>\n",
       "    <tr>\n",
       "      <th rowspan=\"2\" valign=\"top\">Black</th>\n",
       "      <th>Female</th>\n",
       "      <td>26</td>\n",
       "    </tr>\n",
       "    <tr>\n",
       "      <th>Male</th>\n",
       "      <td>36</td>\n",
       "    </tr>\n",
       "    <tr>\n",
       "      <th rowspan=\"2\" valign=\"top\">White</th>\n",
       "      <th>Female</th>\n",
       "      <td>36</td>\n",
       "    </tr>\n",
       "    <tr>\n",
       "      <th>Male</th>\n",
       "      <td>46</td>\n",
       "    </tr>\n",
       "  </tbody>\n",
       "</table>\n",
       "</div>"
      ],
      "text/plain": [
       "              Criminal Ad\n",
       "Race  Sex                \n",
       "Black Female           26\n",
       "      Male             36\n",
       "White Female           36\n",
       "      Male             46"
      ]
     },
     "metadata": {},
     "output_type": "display_data"
    }
   ],
   "source": [
    "# Show breakdowns\n",
    "display(only_criminal.groupby(['Race'])['Criminal Ad'].count().to_frame())\n",
    "display(only_criminal.groupby(['Race', 'Sex'])['Criminal Ad'].count().to_frame())"
   ]
  },
  {
   "cell_type": "code",
   "execution_count": null,
   "id": "ea4dca78",
   "metadata": {},
   "outputs": [],
   "source": []
  }
 ],
 "metadata": {
  "kernelspec": {
   "display_name": "Python 3 (ipykernel)",
   "language": "python",
   "name": "python3"
  },
  "language_info": {
   "codemirror_mode": {
    "name": "ipython",
    "version": 3
   },
   "file_extension": ".py",
   "mimetype": "text/x-python",
   "name": "python",
   "nbconvert_exporter": "python",
   "pygments_lexer": "ipython3",
   "version": "3.11.3"
  }
 },
 "nbformat": 4,
 "nbformat_minor": 5
}
