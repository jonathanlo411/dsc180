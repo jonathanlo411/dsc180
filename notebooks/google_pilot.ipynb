{
 "cells": [
  {
   "cell_type": "markdown",
   "id": "4a1ce29c-f4f9-4bde-838e-d9d7fa61270a",
   "metadata": {},
   "source": [
    "# Google Notebook\n",
    "Purpose is to use Selenium to query names to test for ads via Bing.<br>\n",
    "By: Elsie Wang<br>\n",
    "Date: 11/4/23"
   ]
  },
  {
   "cell_type": "markdown",
   "id": "a4251962-9262-4c7f-a30c-42c92f8a3143",
   "metadata": {},
   "source": [
    "## Overhead"
   ]
  },
  {
   "cell_type": "code",
   "execution_count": 1,
   "id": "b57310a7-4690-438e-aa3f-b0189b317dbc",
   "metadata": {},
   "outputs": [],
   "source": [
    "# Imports\n",
    "import re\n",
    "import logging\n",
    "import os\n",
    "import time\n",
    "\n",
    "import pandas as pd\n",
    "\n",
    "from selenium import webdriver\n",
    "from selenium.webdriver.chrome.options import Options\n",
    "from bs4 import BeautifulSoup\n",
    "from collections import defaultdict\n",
    "from tqdm.notebook import tqdm\n",
    "\n",
    "from util import *"
   ]
  },
  {
   "cell_type": "code",
   "execution_count": 2,
   "id": "7d56ad86-97d6-4e06-9404-7a48713ea105",
   "metadata": {},
   "outputs": [],
   "source": [
    "# Setup logger\n",
    "if not os.path.exists('../logs/'):\n",
    "    os.mkdir('../logs/')\n",
    "if not os.path.exists('../logs/bing-pilot.log'):\n",
    "    open('../logs/bing-pilot.log', 'a').close()\n",
    "\n",
    "logging.basicConfig(\n",
    "    filename='../logs/bing-pilot.log',\n",
    "    filemode='w',\n",
    "    format='%(asctime)s %(message)s',\n",
    "    datefmt='%m/%d/%Y %I:%M:%S %p',\n",
    "    level=logging.DEBUG\n",
    ")"
   ]
  },
  {
   "cell_type": "code",
   "execution_count": 3,
   "id": "1510787f-c428-4d70-924c-9d866dfad6e0",
   "metadata": {},
   "outputs": [],
   "source": [
    "# Setup Webdriver Options\n",
    "options = Options()\n",
    "\n",
    "options.add_argument(\"--disable-notifications\")\n",
    "options.add_argument(\"--incognito\")\n",
    "options.add_experimental_option(\"prefs\", {\"plugins.plugins_list\": [{\"enabled\": False, \"name\": \"Chrome PDF Viewer\"}]})\n",
    "options.add_experimental_option(\"excludeSwitches\", [\"enable-automation\"])\n",
    "options.add_experimental_option('useAutomationExtension', False)\n",
    "options.add_argument(\"--start-maximized\")\n",
    "options.add_argument(\"--disable-blink-features\")\n",
    "options.add_argument('--disable-extensions')\n",
    "options.add_argument(\"--no-sandbox\")\n",
    "\n",
    "options.binary_location = \"/usr/local/bin/webdriver\""
   ]
  },
  {
   "cell_type": "code",
   "execution_count": 8,
   "id": "dad9b1f8-ac09-496e-a2f0-ab614769254e",
   "metadata": {},
   "outputs": [
    {
     "name": "stdout",
     "output_type": "stream",
     "text": [
      "Internet connected:  True\n"
     ]
    }
   ],
   "source": [
    "# Setup Selenium\n",
    "print(\"Internet connected: \", internet())\n",
    "driver = webdriver.Chrome(options=options)"
   ]
  },
  {
   "cell_type": "markdown",
   "id": "bf6671cd-92d6-4443-9d5e-ffce415a40b5",
   "metadata": {},
   "source": [
    "## Collection"
   ]
  },
  {
   "cell_type": "markdown",
   "id": "c7251b3e-50ac-4720-9f76-03955545c112",
   "metadata": {},
   "source": [
    "### Generating Names"
   ]
  },
  {
   "cell_type": "code",
   "execution_count": 5,
   "id": "b833b3b9-27ec-4468-84ab-7bd525f20d58",
   "metadata": {},
   "outputs": [],
   "source": [
    "# Init names\n",
    "path = \"./../data/pilot-names.json\"\n",
    "white_female_names = generate_names(path, 'white', 'female')\n",
    "white_male_names = generate_names(path, 'white', 'male')\n",
    "black_female_names = generate_names(path, 'black', 'female')\n",
    "black_male_names = generate_names(path, 'black', 'male')\n",
    "all_names = {\n",
    "    \"wf\": white_female_names,\n",
    "    \"wm\": white_male_names,\n",
    "    \"bf\": black_female_names,\n",
    "    \"bm\": black_male_names\n",
    "}"
   ]
  },
  {
   "cell_type": "markdown",
   "id": "71a8a155-2cfb-44a5-8b85-b6c39a6c0412",
   "metadata": {},
   "source": [
    "### Querying"
   ]
  },
  {
   "cell_type": "code",
   "execution_count": 13,
   "id": "1603e899-2058-4184-8959-06bb9fa443e7",
   "metadata": {},
   "outputs": [],
   "source": [
    "def parse_google_ads(raw_html, query):\n",
    "    \"\"\" Parses the doman.TLD and the title, URL from the HTML\n",
    "    \"\"\"\n",
    "    compiled = defaultdict(list)\n",
    "    pattern = r'(?:http[s]?://)?(?:www\\.)?([\\w-]+\\.[\\w-]+)' # Matches the domain and TLD of a URL\n",
    "    ads = BeautifulSoup(raw_html).select('div[data-text-ad=\"1\"]')\n",
    "    for ad in ads:\n",
    "        try:\n",
    "            title = ad.select_one('div[aria-level=\"3\"]').text\n",
    "            link = ad.select_one('a')['href']\n",
    "            match = re.search(pattern, link)\n",
    "            domain = match.group(1) if match else 'ERROR'\n",
    "            compiled[domain].append((title, link))\n",
    "        except Exception as e:\n",
    "            logging.debug(f'Failed to parse ad HTML on query: {query}')\n",
    "    return compiled"
   ]
  },
  {
   "cell_type": "code",
   "execution_count": 14,
   "id": "2f8d0a4b-d1fc-47a7-aa40-b1425ed49235",
   "metadata": {},
   "outputs": [
    {
     "data": {
      "application/vnd.jupyter.widget-view+json": {
       "model_id": "da7519289e014fb580a28baaa3e2b86d",
       "version_major": 2,
       "version_minor": 0
      },
      "text/plain": [
       "  0%|          | 0/4 [00:00<?, ?it/s]"
      ]
     },
     "metadata": {},
     "output_type": "display_data"
    },
    {
     "data": {
      "application/vnd.jupyter.widget-view+json": {
       "model_id": "c87a587c11344c4187bcec9d9d3faedc",
       "version_major": 2,
       "version_minor": 0
      },
      "text/plain": [
       "  0%|          | 0/80 [00:00<?, ?it/s]"
      ]
     },
     "metadata": {},
     "output_type": "display_data"
    },
    {
     "data": {
      "application/vnd.jupyter.widget-view+json": {
       "model_id": "ee57f46116b9401d891b6d1f49339b88",
       "version_major": 2,
       "version_minor": 0
      },
      "text/plain": [
       "  0%|          | 0/80 [00:00<?, ?it/s]"
      ]
     },
     "metadata": {},
     "output_type": "display_data"
    },
    {
     "data": {
      "application/vnd.jupyter.widget-view+json": {
       "model_id": "f7887810a262486ab0afc0f0c89075b3",
       "version_major": 2,
       "version_minor": 0
      },
      "text/plain": [
       "  0%|          | 0/90 [00:00<?, ?it/s]"
      ]
     },
     "metadata": {},
     "output_type": "display_data"
    },
    {
     "data": {
      "application/vnd.jupyter.widget-view+json": {
       "model_id": "4113d4394af6496aa88345dc6abbbcfd",
       "version_major": 2,
       "version_minor": 0
      },
      "text/plain": [
       "  0%|          | 0/80 [00:00<?, ?it/s]"
      ]
     },
     "metadata": {},
     "output_type": "display_data"
    }
   ],
   "source": [
    "# Querying all names and obtaining the ads on the page (est. 4min)\n",
    "all_ads = [['Name', 'Group', 'Ad Domain', 'Ad Title', 'Ad Link']]\n",
    "for group, names in tqdm(all_names.items()):\n",
    "    for name in tqdm(names):\n",
    "        driver = webdriver.Chrome(options=options)\n",
    "        query = f\"{name} public records\"\n",
    "        raw_html = google_search(query, driver)\n",
    "        parsed = parse_google_ads(raw_html, query)\n",
    "        for domain, ad_items in parsed.items():\n",
    "            for ad_opts in ad_items:\n",
    "                all_ads.append([name, group, domain, ad_opts[0], ad_opts[1]])\n",
    "        driver.close()"
   ]
  },
  {
   "cell_type": "markdown",
   "id": "8e012796-1847-495e-83a0-25e4db9fc5c6",
   "metadata": {},
   "source": [
    "## Analysis"
   ]
  },
  {
   "cell_type": "markdown",
   "id": "6dcf31c8-0391-4b79-a4c6-59c590bb709f",
   "metadata": {},
   "source": [
    "### Labelling"
   ]
  },
  {
   "cell_type": "code",
   "execution_count": 20,
   "id": "d9195077-b0c5-4702-9673-7f0a3655940a",
   "metadata": {},
   "outputs": [],
   "source": [
    "# Init DF\n",
    "df = pd.DataFrame(all_ads[1:], columns=all_ads[0])"
   ]
  },
  {
   "cell_type": "code",
   "execution_count": 21,
   "id": "8019a306-462b-4a15-b9e0-41fb1ddab3f8",
   "metadata": {},
   "outputs": [],
   "source": [
    "# Label\n",
    "mapping = {'wf': ('White', 'Female'), 'wm': ('White', 'Male'), 'bf': ('Black', 'Female'), 'bm': ('Black', 'Male')}\n",
    "df['Race'] = df['Group'].map(mapping).str[0]\n",
    "df['Sex'] = df['Group'].map(mapping).str[1]\n",
    "df['Criminal Ad'] = df['Ad Title'].str.lower().str.contains('criminal')"
   ]
  },
  {
   "cell_type": "code",
   "execution_count": 22,
   "id": "01f886d7-868b-47a2-8901-b28c173bae76",
   "metadata": {},
   "outputs": [
    {
     "data": {
      "text/html": [
       "<div>\n",
       "<style scoped>\n",
       "    .dataframe tbody tr th:only-of-type {\n",
       "        vertical-align: middle;\n",
       "    }\n",
       "\n",
       "    .dataframe tbody tr th {\n",
       "        vertical-align: top;\n",
       "    }\n",
       "\n",
       "    .dataframe thead th {\n",
       "        text-align: right;\n",
       "    }\n",
       "</style>\n",
       "<table border=\"1\" class=\"dataframe\">\n",
       "  <thead>\n",
       "    <tr style=\"text-align: right;\">\n",
       "      <th></th>\n",
       "      <th>Name</th>\n",
       "      <th>Group</th>\n",
       "      <th>Ad Domain</th>\n",
       "      <th>Ad Title</th>\n",
       "      <th>Ad Link</th>\n",
       "      <th>Race</th>\n",
       "      <th>Sex</th>\n",
       "      <th>Criminal Ad</th>\n",
       "    </tr>\n",
       "  </thead>\n",
       "  <tbody>\n",
       "    <tr>\n",
       "      <th>0</th>\n",
       "      <td>Allison Smith</td>\n",
       "      <td>wf</td>\n",
       "      <td>truthfinder.com</td>\n",
       "      <td>Public Background Check - Just Type in a Name ...</td>\n",
       "      <td>https://www.truthfinder.com/p/home/</td>\n",
       "      <td>White</td>\n",
       "      <td>Female</td>\n",
       "      <td>False</td>\n",
       "    </tr>\n",
       "    <tr>\n",
       "      <th>1</th>\n",
       "      <td>Allison Smith</td>\n",
       "      <td>wf</td>\n",
       "      <td>publicrecords.com</td>\n",
       "      <td>Online Public Records - Just Enter A Name And ...</td>\n",
       "      <td>https://www.publicrecords.com/</td>\n",
       "      <td>White</td>\n",
       "      <td>Female</td>\n",
       "      <td>False</td>\n",
       "    </tr>\n",
       "    <tr>\n",
       "      <th>2</th>\n",
       "      <td>Allison Smith</td>\n",
       "      <td>wf</td>\n",
       "      <td>publicrecordreports.com</td>\n",
       "      <td>Absolutely free public records - Just Type in ...</td>\n",
       "      <td>https://www.publicrecordreports.com/people/index</td>\n",
       "      <td>White</td>\n",
       "      <td>Female</td>\n",
       "      <td>False</td>\n",
       "    </tr>\n",
       "    <tr>\n",
       "      <th>3</th>\n",
       "      <td>Allison Smith</td>\n",
       "      <td>wf</td>\n",
       "      <td>ourpublicrecords.org</td>\n",
       "      <td>Free Public Arrest Records - View Records With...</td>\n",
       "      <td>https://ourpublicrecords.org/arrest-records/</td>\n",
       "      <td>White</td>\n",
       "      <td>Female</td>\n",
       "      <td>False</td>\n",
       "    </tr>\n",
       "    <tr>\n",
       "      <th>4</th>\n",
       "      <td>Allison Johnson</td>\n",
       "      <td>wf</td>\n",
       "      <td>truthfinder.com</td>\n",
       "      <td>Public Records Search - Just Type in a Name &amp; ...</td>\n",
       "      <td>https://www.truthfinder.com/p/home/</td>\n",
       "      <td>White</td>\n",
       "      <td>Female</td>\n",
       "      <td>False</td>\n",
       "    </tr>\n",
       "  </tbody>\n",
       "</table>\n",
       "</div>"
      ],
      "text/plain": [
       "              Name Group                Ad Domain  \\\n",
       "0    Allison Smith    wf          truthfinder.com   \n",
       "1    Allison Smith    wf        publicrecords.com   \n",
       "2    Allison Smith    wf  publicrecordreports.com   \n",
       "3    Allison Smith    wf     ourpublicrecords.org   \n",
       "4  Allison Johnson    wf          truthfinder.com   \n",
       "\n",
       "                                            Ad Title  \\\n",
       "0  Public Background Check - Just Type in a Name ...   \n",
       "1  Online Public Records - Just Enter A Name And ...   \n",
       "2  Absolutely free public records - Just Type in ...   \n",
       "3  Free Public Arrest Records - View Records With...   \n",
       "4  Public Records Search - Just Type in a Name & ...   \n",
       "\n",
       "                                            Ad Link   Race     Sex  \\\n",
       "0               https://www.truthfinder.com/p/home/  White  Female   \n",
       "1                    https://www.publicrecords.com/  White  Female   \n",
       "2  https://www.publicrecordreports.com/people/index  White  Female   \n",
       "3      https://ourpublicrecords.org/arrest-records/  White  Female   \n",
       "4               https://www.truthfinder.com/p/home/  White  Female   \n",
       "\n",
       "   Criminal Ad  \n",
       "0        False  \n",
       "1        False  \n",
       "2        False  \n",
       "3        False  \n",
       "4        False  "
      ]
     },
     "execution_count": 22,
     "metadata": {},
     "output_type": "execute_result"
    }
   ],
   "source": [
    "# Showing dataframe\n",
    "df.head()"
   ]
  },
  {
   "cell_type": "markdown",
   "id": "c0156d09-c59c-421e-8f80-be7d7f71b8af",
   "metadata": {},
   "source": [
    "### Breakdown"
   ]
  },
  {
   "cell_type": "code",
   "execution_count": 23,
   "id": "92edaedd-81c4-4552-8c46-9b7715b59bf4",
   "metadata": {},
   "outputs": [
    {
     "data": {
      "text/html": [
       "<div>\n",
       "<style scoped>\n",
       "    .dataframe tbody tr th:only-of-type {\n",
       "        vertical-align: middle;\n",
       "    }\n",
       "\n",
       "    .dataframe tbody tr th {\n",
       "        vertical-align: top;\n",
       "    }\n",
       "\n",
       "    .dataframe thead th {\n",
       "        text-align: right;\n",
       "    }\n",
       "</style>\n",
       "<table border=\"1\" class=\"dataframe\">\n",
       "  <thead>\n",
       "    <tr style=\"text-align: right;\">\n",
       "      <th></th>\n",
       "      <th>Criminal Ad</th>\n",
       "    </tr>\n",
       "    <tr>\n",
       "      <th>Race</th>\n",
       "      <th></th>\n",
       "    </tr>\n",
       "  </thead>\n",
       "  <tbody>\n",
       "    <tr>\n",
       "      <th>Black</th>\n",
       "      <td>646</td>\n",
       "    </tr>\n",
       "    <tr>\n",
       "      <th>White</th>\n",
       "      <td>552</td>\n",
       "    </tr>\n",
       "  </tbody>\n",
       "</table>\n",
       "</div>"
      ],
      "text/plain": [
       "       Criminal Ad\n",
       "Race              \n",
       "Black          646\n",
       "White          552"
      ]
     },
     "metadata": {},
     "output_type": "display_data"
    },
    {
     "data": {
      "text/html": [
       "<div>\n",
       "<style scoped>\n",
       "    .dataframe tbody tr th:only-of-type {\n",
       "        vertical-align: middle;\n",
       "    }\n",
       "\n",
       "    .dataframe tbody tr th {\n",
       "        vertical-align: top;\n",
       "    }\n",
       "\n",
       "    .dataframe thead th {\n",
       "        text-align: right;\n",
       "    }\n",
       "</style>\n",
       "<table border=\"1\" class=\"dataframe\">\n",
       "  <thead>\n",
       "    <tr style=\"text-align: right;\">\n",
       "      <th></th>\n",
       "      <th></th>\n",
       "      <th>Criminal Ad</th>\n",
       "    </tr>\n",
       "    <tr>\n",
       "      <th>Race</th>\n",
       "      <th>Sex</th>\n",
       "      <th></th>\n",
       "    </tr>\n",
       "  </thead>\n",
       "  <tbody>\n",
       "    <tr>\n",
       "      <th rowspan=\"2\" valign=\"top\">Black</th>\n",
       "      <th>Female</th>\n",
       "      <td>348</td>\n",
       "    </tr>\n",
       "    <tr>\n",
       "      <th>Male</th>\n",
       "      <td>298</td>\n",
       "    </tr>\n",
       "    <tr>\n",
       "      <th rowspan=\"2\" valign=\"top\">White</th>\n",
       "      <th>Female</th>\n",
       "      <td>271</td>\n",
       "    </tr>\n",
       "    <tr>\n",
       "      <th>Male</th>\n",
       "      <td>281</td>\n",
       "    </tr>\n",
       "  </tbody>\n",
       "</table>\n",
       "</div>"
      ],
      "text/plain": [
       "              Criminal Ad\n",
       "Race  Sex                \n",
       "Black Female          348\n",
       "      Male            298\n",
       "White Female          271\n",
       "      Male            281"
      ]
     },
     "metadata": {},
     "output_type": "display_data"
    }
   ],
   "source": [
    "# Show breakdowns\n",
    "display(df.groupby(['Race'])['Criminal Ad'].count().to_frame())\n",
    "display(df.groupby(['Race', 'Sex'])['Criminal Ad'].count().to_frame())"
   ]
  },
  {
   "cell_type": "code",
   "execution_count": null,
   "id": "d3433b5d",
   "metadata": {},
   "outputs": [],
   "source": []
  }
 ],
 "metadata": {
  "kernelspec": {
   "display_name": "Python 3 (ipykernel)",
   "language": "python",
   "name": "python3"
  },
  "language_info": {
   "codemirror_mode": {
    "name": "ipython",
    "version": 3
   },
   "file_extension": ".py",
   "mimetype": "text/x-python",
   "name": "python",
   "nbconvert_exporter": "python",
   "pygments_lexer": "ipython3",
   "version": "3.10.9"
  }
 },
 "nbformat": 4,
 "nbformat_minor": 5
}
